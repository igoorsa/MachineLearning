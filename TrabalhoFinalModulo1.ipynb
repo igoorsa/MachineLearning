{
  "nbformat": 4,
  "nbformat_minor": 0,
  "metadata": {
    "colab": {
      "provenance": [],
      "authorship_tag": "ABX9TyMvKEp1dzV7MhA9c0+9iVSE",
      "include_colab_link": true
    },
    "kernelspec": {
      "name": "python3",
      "display_name": "Python 3"
    },
    "language_info": {
      "name": "python"
    }
  },
  "cells": [
    {
      "cell_type": "markdown",
      "metadata": {
        "id": "view-in-github",
        "colab_type": "text"
      },
      "source": [
        "<a href=\"https://colab.research.google.com/github/igoorsa/MachineLearning/blob/main/TrabalhoFinalModulo1.ipynb\" target=\"_parent\"><img src=\"https://colab.research.google.com/assets/colab-badge.svg\" alt=\"Open In Colab\"/></a>"
      ]
    },
    {
      "cell_type": "code",
      "execution_count": 73,
      "metadata": {
        "id": "iP72SZLLp7D8"
      },
      "outputs": [],
      "source": [
        "import pandas as pd\n",
        "import matplotlib.pyplot as plt\n",
        "import seaborn as sns\n",
        "from sklearn.model_selection import StratifiedKFold\n",
        "from sklearn.model_selection import cross_val_score\n",
        "\n",
        "#Modelos para teste\n",
        "from sklearn.naive_bayes import GaussianNB\n",
        "from sklearn.tree import DecisionTreeClassifier\n",
        "from sklearn.dummy import DummyClassifier\n",
        "from sklearn.neighbors import KNeighborsClassifier # tem que transformar os dados antes\n",
        "\n",
        "#PreProcessing\n",
        "from sklearn.preprocessing import MinMaxScaler\n",
        "from sklearn.model_selection import train_test_split\n",
        "\n",
        "#Verificando o Melhor parametro\n",
        "from sklearn.model_selection import GridSearchCV\n",
        "from sklearn.feature_selection import SelectKBest"
      ]
    },
    {
      "cell_type": "code",
      "source": [
        "pd.set_option('display.max_columns', 23)\n",
        "dados = pd.read_csv('/content/recipeData.csv', encoding= 'ISO-8859-1')\n",
        "dados.head()"
      ],
      "metadata": {
        "colab": {
          "base_uri": "https://localhost:8080/",
          "height": 531
        },
        "id": "zikyk21jqPMy",
        "outputId": "93f3cd7b-d506-4d89-8bfc-8f23aa228135"
      },
      "execution_count": 2,
      "outputs": [
        {
          "output_type": "execute_result",
          "data": {
            "text/plain": [
              "   BeerID                             Name  \\\n",
              "0       1                Vanilla Cream Ale   \n",
              "1       2      Southern Tier Pumking clone   \n",
              "2       3      Zombie Dust Clone - EXTRACT   \n",
              "3       4    Zombie Dust Clone - ALL GRAIN   \n",
              "4       5  Bakke Brygg Belgisk Blonde 50 l   \n",
              "\n",
              "                                                 URL  \\\n",
              "0       /homebrew/recipe/view/1633/vanilla-cream-ale   \n",
              "1  /homebrew/recipe/view/16367/southern-tier-pumk...   \n",
              "2  /homebrew/recipe/view/5920/zombie-dust-clone-e...   \n",
              "3  /homebrew/recipe/view/5916/zombie-dust-clone-a...   \n",
              "4  /homebrew/recipe/view/89534/bakke-brygg-belgis...   \n",
              "\n",
              "                                Style  StyleID  Size(L)     OG     FG   ABV  \\\n",
              "0                           Cream Ale       45    21.77  1.055  1.013  5.48   \n",
              "1  Holiday/Winter Special Spiced Beer       85    20.82  1.083  1.021  8.16   \n",
              "2                        American IPA        7    18.93  1.063  1.018  5.91   \n",
              "3                        American IPA        7    22.71  1.061  1.017  5.80   \n",
              "4                   Belgian Blond Ale       20    50.00  1.060  1.010  6.48   \n",
              "\n",
              "     IBU  Color  BoilSize  BoilTime  BoilGravity  Efficiency  MashThickness  \\\n",
              "0  17.65   4.83     28.39        75        1.038        70.0            NaN   \n",
              "1  60.65  15.64     24.61        60        1.070        70.0            NaN   \n",
              "2  59.25   8.98     22.71        60          NaN        70.0            NaN   \n",
              "3  54.48   8.50     26.50        60          NaN        70.0            NaN   \n",
              "4  17.84   4.57     60.00        90        1.050        72.0            NaN   \n",
              "\n",
              "         SugarScale BrewMethod  PitchRate  PrimaryTemp PrimingMethod  \\\n",
              "0  Specific Gravity  All Grain        NaN        17.78    corn sugar   \n",
              "1  Specific Gravity  All Grain        NaN          NaN           NaN   \n",
              "2  Specific Gravity    extract        NaN          NaN           NaN   \n",
              "3  Specific Gravity  All Grain        NaN          NaN           NaN   \n",
              "4  Specific Gravity  All Grain        NaN        19.00    Sukkerlake   \n",
              "\n",
              "    PrimingAmount   UserId  \n",
              "0          4.5 oz    116.0  \n",
              "1             NaN    955.0  \n",
              "2             NaN      NaN  \n",
              "3             NaN      NaN  \n",
              "4  6-7 g sukker/l  18325.0  "
            ],
            "text/html": [
              "\n",
              "\n",
              "  <div id=\"df-2ff548d6-c793-4f5c-b194-d464c8316a2a\">\n",
              "    <div class=\"colab-df-container\">\n",
              "      <div>\n",
              "<style scoped>\n",
              "    .dataframe tbody tr th:only-of-type {\n",
              "        vertical-align: middle;\n",
              "    }\n",
              "\n",
              "    .dataframe tbody tr th {\n",
              "        vertical-align: top;\n",
              "    }\n",
              "\n",
              "    .dataframe thead th {\n",
              "        text-align: right;\n",
              "    }\n",
              "</style>\n",
              "<table border=\"1\" class=\"dataframe\">\n",
              "  <thead>\n",
              "    <tr style=\"text-align: right;\">\n",
              "      <th></th>\n",
              "      <th>BeerID</th>\n",
              "      <th>Name</th>\n",
              "      <th>URL</th>\n",
              "      <th>Style</th>\n",
              "      <th>StyleID</th>\n",
              "      <th>Size(L)</th>\n",
              "      <th>OG</th>\n",
              "      <th>FG</th>\n",
              "      <th>ABV</th>\n",
              "      <th>IBU</th>\n",
              "      <th>Color</th>\n",
              "      <th>BoilSize</th>\n",
              "      <th>BoilTime</th>\n",
              "      <th>BoilGravity</th>\n",
              "      <th>Efficiency</th>\n",
              "      <th>MashThickness</th>\n",
              "      <th>SugarScale</th>\n",
              "      <th>BrewMethod</th>\n",
              "      <th>PitchRate</th>\n",
              "      <th>PrimaryTemp</th>\n",
              "      <th>PrimingMethod</th>\n",
              "      <th>PrimingAmount</th>\n",
              "      <th>UserId</th>\n",
              "    </tr>\n",
              "  </thead>\n",
              "  <tbody>\n",
              "    <tr>\n",
              "      <th>0</th>\n",
              "      <td>1</td>\n",
              "      <td>Vanilla Cream Ale</td>\n",
              "      <td>/homebrew/recipe/view/1633/vanilla-cream-ale</td>\n",
              "      <td>Cream Ale</td>\n",
              "      <td>45</td>\n",
              "      <td>21.77</td>\n",
              "      <td>1.055</td>\n",
              "      <td>1.013</td>\n",
              "      <td>5.48</td>\n",
              "      <td>17.65</td>\n",
              "      <td>4.83</td>\n",
              "      <td>28.39</td>\n",
              "      <td>75</td>\n",
              "      <td>1.038</td>\n",
              "      <td>70.0</td>\n",
              "      <td>NaN</td>\n",
              "      <td>Specific Gravity</td>\n",
              "      <td>All Grain</td>\n",
              "      <td>NaN</td>\n",
              "      <td>17.78</td>\n",
              "      <td>corn sugar</td>\n",
              "      <td>4.5 oz</td>\n",
              "      <td>116.0</td>\n",
              "    </tr>\n",
              "    <tr>\n",
              "      <th>1</th>\n",
              "      <td>2</td>\n",
              "      <td>Southern Tier Pumking clone</td>\n",
              "      <td>/homebrew/recipe/view/16367/southern-tier-pumk...</td>\n",
              "      <td>Holiday/Winter Special Spiced Beer</td>\n",
              "      <td>85</td>\n",
              "      <td>20.82</td>\n",
              "      <td>1.083</td>\n",
              "      <td>1.021</td>\n",
              "      <td>8.16</td>\n",
              "      <td>60.65</td>\n",
              "      <td>15.64</td>\n",
              "      <td>24.61</td>\n",
              "      <td>60</td>\n",
              "      <td>1.070</td>\n",
              "      <td>70.0</td>\n",
              "      <td>NaN</td>\n",
              "      <td>Specific Gravity</td>\n",
              "      <td>All Grain</td>\n",
              "      <td>NaN</td>\n",
              "      <td>NaN</td>\n",
              "      <td>NaN</td>\n",
              "      <td>NaN</td>\n",
              "      <td>955.0</td>\n",
              "    </tr>\n",
              "    <tr>\n",
              "      <th>2</th>\n",
              "      <td>3</td>\n",
              "      <td>Zombie Dust Clone - EXTRACT</td>\n",
              "      <td>/homebrew/recipe/view/5920/zombie-dust-clone-e...</td>\n",
              "      <td>American IPA</td>\n",
              "      <td>7</td>\n",
              "      <td>18.93</td>\n",
              "      <td>1.063</td>\n",
              "      <td>1.018</td>\n",
              "      <td>5.91</td>\n",
              "      <td>59.25</td>\n",
              "      <td>8.98</td>\n",
              "      <td>22.71</td>\n",
              "      <td>60</td>\n",
              "      <td>NaN</td>\n",
              "      <td>70.0</td>\n",
              "      <td>NaN</td>\n",
              "      <td>Specific Gravity</td>\n",
              "      <td>extract</td>\n",
              "      <td>NaN</td>\n",
              "      <td>NaN</td>\n",
              "      <td>NaN</td>\n",
              "      <td>NaN</td>\n",
              "      <td>NaN</td>\n",
              "    </tr>\n",
              "    <tr>\n",
              "      <th>3</th>\n",
              "      <td>4</td>\n",
              "      <td>Zombie Dust Clone - ALL GRAIN</td>\n",
              "      <td>/homebrew/recipe/view/5916/zombie-dust-clone-a...</td>\n",
              "      <td>American IPA</td>\n",
              "      <td>7</td>\n",
              "      <td>22.71</td>\n",
              "      <td>1.061</td>\n",
              "      <td>1.017</td>\n",
              "      <td>5.80</td>\n",
              "      <td>54.48</td>\n",
              "      <td>8.50</td>\n",
              "      <td>26.50</td>\n",
              "      <td>60</td>\n",
              "      <td>NaN</td>\n",
              "      <td>70.0</td>\n",
              "      <td>NaN</td>\n",
              "      <td>Specific Gravity</td>\n",
              "      <td>All Grain</td>\n",
              "      <td>NaN</td>\n",
              "      <td>NaN</td>\n",
              "      <td>NaN</td>\n",
              "      <td>NaN</td>\n",
              "      <td>NaN</td>\n",
              "    </tr>\n",
              "    <tr>\n",
              "      <th>4</th>\n",
              "      <td>5</td>\n",
              "      <td>Bakke Brygg Belgisk Blonde 50 l</td>\n",
              "      <td>/homebrew/recipe/view/89534/bakke-brygg-belgis...</td>\n",
              "      <td>Belgian Blond Ale</td>\n",
              "      <td>20</td>\n",
              "      <td>50.00</td>\n",
              "      <td>1.060</td>\n",
              "      <td>1.010</td>\n",
              "      <td>6.48</td>\n",
              "      <td>17.84</td>\n",
              "      <td>4.57</td>\n",
              "      <td>60.00</td>\n",
              "      <td>90</td>\n",
              "      <td>1.050</td>\n",
              "      <td>72.0</td>\n",
              "      <td>NaN</td>\n",
              "      <td>Specific Gravity</td>\n",
              "      <td>All Grain</td>\n",
              "      <td>NaN</td>\n",
              "      <td>19.00</td>\n",
              "      <td>Sukkerlake</td>\n",
              "      <td>6-7 g sukker/l</td>\n",
              "      <td>18325.0</td>\n",
              "    </tr>\n",
              "  </tbody>\n",
              "</table>\n",
              "</div>\n",
              "      <button class=\"colab-df-convert\" onclick=\"convertToInteractive('df-2ff548d6-c793-4f5c-b194-d464c8316a2a')\"\n",
              "              title=\"Convert this dataframe to an interactive table.\"\n",
              "              style=\"display:none;\">\n",
              "\n",
              "  <svg xmlns=\"http://www.w3.org/2000/svg\" height=\"24px\"viewBox=\"0 0 24 24\"\n",
              "       width=\"24px\">\n",
              "    <path d=\"M0 0h24v24H0V0z\" fill=\"none\"/>\n",
              "    <path d=\"M18.56 5.44l.94 2.06.94-2.06 2.06-.94-2.06-.94-.94-2.06-.94 2.06-2.06.94zm-11 1L8.5 8.5l.94-2.06 2.06-.94-2.06-.94L8.5 2.5l-.94 2.06-2.06.94zm10 10l.94 2.06.94-2.06 2.06-.94-2.06-.94-.94-2.06-.94 2.06-2.06.94z\"/><path d=\"M17.41 7.96l-1.37-1.37c-.4-.4-.92-.59-1.43-.59-.52 0-1.04.2-1.43.59L10.3 9.45l-7.72 7.72c-.78.78-.78 2.05 0 2.83L4 21.41c.39.39.9.59 1.41.59.51 0 1.02-.2 1.41-.59l7.78-7.78 2.81-2.81c.8-.78.8-2.07 0-2.86zM5.41 20L4 18.59l7.72-7.72 1.47 1.35L5.41 20z\"/>\n",
              "  </svg>\n",
              "      </button>\n",
              "\n",
              "\n",
              "\n",
              "    <div id=\"df-0bf49764-304e-40bb-8174-a03208a3926b\">\n",
              "      <button class=\"colab-df-quickchart\" onclick=\"quickchart('df-0bf49764-304e-40bb-8174-a03208a3926b')\"\n",
              "              title=\"Suggest charts.\"\n",
              "              style=\"display:none;\">\n",
              "\n",
              "<svg xmlns=\"http://www.w3.org/2000/svg\" height=\"24px\"viewBox=\"0 0 24 24\"\n",
              "     width=\"24px\">\n",
              "    <g>\n",
              "        <path d=\"M19 3H5c-1.1 0-2 .9-2 2v14c0 1.1.9 2 2 2h14c1.1 0 2-.9 2-2V5c0-1.1-.9-2-2-2zM9 17H7v-7h2v7zm4 0h-2V7h2v10zm4 0h-2v-4h2v4z\"/>\n",
              "    </g>\n",
              "</svg>\n",
              "      </button>\n",
              "    </div>\n",
              "\n",
              "<style>\n",
              "  .colab-df-quickchart {\n",
              "    background-color: #E8F0FE;\n",
              "    border: none;\n",
              "    border-radius: 50%;\n",
              "    cursor: pointer;\n",
              "    display: none;\n",
              "    fill: #1967D2;\n",
              "    height: 32px;\n",
              "    padding: 0 0 0 0;\n",
              "    width: 32px;\n",
              "  }\n",
              "\n",
              "  .colab-df-quickchart:hover {\n",
              "    background-color: #E2EBFA;\n",
              "    box-shadow: 0px 1px 2px rgba(60, 64, 67, 0.3), 0px 1px 3px 1px rgba(60, 64, 67, 0.15);\n",
              "    fill: #174EA6;\n",
              "  }\n",
              "\n",
              "  [theme=dark] .colab-df-quickchart {\n",
              "    background-color: #3B4455;\n",
              "    fill: #D2E3FC;\n",
              "  }\n",
              "\n",
              "  [theme=dark] .colab-df-quickchart:hover {\n",
              "    background-color: #434B5C;\n",
              "    box-shadow: 0px 1px 3px 1px rgba(0, 0, 0, 0.15);\n",
              "    filter: drop-shadow(0px 1px 2px rgba(0, 0, 0, 0.3));\n",
              "    fill: #FFFFFF;\n",
              "  }\n",
              "</style>\n",
              "\n",
              "    <script>\n",
              "      async function quickchart(key) {\n",
              "        const containerElement = document.querySelector('#' + key);\n",
              "        const charts = await google.colab.kernel.invokeFunction(\n",
              "            'suggestCharts', [key], {});\n",
              "      }\n",
              "    </script>\n",
              "\n",
              "      <script>\n",
              "\n",
              "function displayQuickchartButton(domScope) {\n",
              "  let quickchartButtonEl =\n",
              "    domScope.querySelector('#df-0bf49764-304e-40bb-8174-a03208a3926b button.colab-df-quickchart');\n",
              "  quickchartButtonEl.style.display =\n",
              "    google.colab.kernel.accessAllowed ? 'block' : 'none';\n",
              "}\n",
              "\n",
              "        displayQuickchartButton(document);\n",
              "      </script>\n",
              "      <style>\n",
              "    .colab-df-container {\n",
              "      display:flex;\n",
              "      flex-wrap:wrap;\n",
              "      gap: 12px;\n",
              "    }\n",
              "\n",
              "    .colab-df-convert {\n",
              "      background-color: #E8F0FE;\n",
              "      border: none;\n",
              "      border-radius: 50%;\n",
              "      cursor: pointer;\n",
              "      display: none;\n",
              "      fill: #1967D2;\n",
              "      height: 32px;\n",
              "      padding: 0 0 0 0;\n",
              "      width: 32px;\n",
              "    }\n",
              "\n",
              "    .colab-df-convert:hover {\n",
              "      background-color: #E2EBFA;\n",
              "      box-shadow: 0px 1px 2px rgba(60, 64, 67, 0.3), 0px 1px 3px 1px rgba(60, 64, 67, 0.15);\n",
              "      fill: #174EA6;\n",
              "    }\n",
              "\n",
              "    [theme=dark] .colab-df-convert {\n",
              "      background-color: #3B4455;\n",
              "      fill: #D2E3FC;\n",
              "    }\n",
              "\n",
              "    [theme=dark] .colab-df-convert:hover {\n",
              "      background-color: #434B5C;\n",
              "      box-shadow: 0px 1px 3px 1px rgba(0, 0, 0, 0.15);\n",
              "      filter: drop-shadow(0px 1px 2px rgba(0, 0, 0, 0.3));\n",
              "      fill: #FFFFFF;\n",
              "    }\n",
              "  </style>\n",
              "\n",
              "      <script>\n",
              "        const buttonEl =\n",
              "          document.querySelector('#df-2ff548d6-c793-4f5c-b194-d464c8316a2a button.colab-df-convert');\n",
              "        buttonEl.style.display =\n",
              "          google.colab.kernel.accessAllowed ? 'block' : 'none';\n",
              "\n",
              "        async function convertToInteractive(key) {\n",
              "          const element = document.querySelector('#df-2ff548d6-c793-4f5c-b194-d464c8316a2a');\n",
              "          const dataTable =\n",
              "            await google.colab.kernel.invokeFunction('convertToInteractive',\n",
              "                                                     [key], {});\n",
              "          if (!dataTable) return;\n",
              "\n",
              "          const docLinkHtml = 'Like what you see? Visit the ' +\n",
              "            '<a target=\"_blank\" href=https://colab.research.google.com/notebooks/data_table.ipynb>data table notebook</a>'\n",
              "            + ' to learn more about interactive tables.';\n",
              "          element.innerHTML = '';\n",
              "          dataTable['output_type'] = 'display_data';\n",
              "          await google.colab.output.renderOutput(dataTable, element);\n",
              "          const docLink = document.createElement('div');\n",
              "          docLink.innerHTML = docLinkHtml;\n",
              "          element.appendChild(docLink);\n",
              "        }\n",
              "      </script>\n",
              "    </div>\n",
              "  </div>\n"
            ]
          },
          "metadata": {},
          "execution_count": 2
        }
      ]
    },
    {
      "cell_type": "code",
      "source": [
        "dados.dtypes"
      ],
      "metadata": {
        "colab": {
          "base_uri": "https://localhost:8080/"
        },
        "id": "mjHtPIs6svA2",
        "outputId": "4917a5fa-b791-47a1-fb23-65f5873f0a24"
      },
      "execution_count": 3,
      "outputs": [
        {
          "output_type": "execute_result",
          "data": {
            "text/plain": [
              "BeerID             int64\n",
              "Name              object\n",
              "URL               object\n",
              "Style             object\n",
              "StyleID            int64\n",
              "Size(L)          float64\n",
              "OG               float64\n",
              "FG               float64\n",
              "ABV              float64\n",
              "IBU              float64\n",
              "Color            float64\n",
              "BoilSize         float64\n",
              "BoilTime           int64\n",
              "BoilGravity      float64\n",
              "Efficiency       float64\n",
              "MashThickness    float64\n",
              "SugarScale        object\n",
              "BrewMethod        object\n",
              "PitchRate        float64\n",
              "PrimaryTemp      float64\n",
              "PrimingMethod     object\n",
              "PrimingAmount     object\n",
              "UserId           float64\n",
              "dtype: object"
            ]
          },
          "metadata": {},
          "execution_count": 3
        }
      ]
    },
    {
      "cell_type": "code",
      "source": [
        "dados.drop('BeerID', axis= 1, inplace = True)\n",
        "dados.drop('Name', axis= 1, inplace = True)\n",
        "dados.drop('URL', axis= 1, inplace = True)"
      ],
      "metadata": {
        "id": "O8XOP-g6tIdJ"
      },
      "execution_count": 4,
      "outputs": []
    },
    {
      "cell_type": "code",
      "source": [
        "dados.head()"
      ],
      "metadata": {
        "colab": {
          "base_uri": "https://localhost:8080/",
          "height": 250
        },
        "id": "PaBAwd3jtd97",
        "outputId": "dfe86214-2c08-4c0b-b927-e3dbae0fdc83"
      },
      "execution_count": 5,
      "outputs": [
        {
          "output_type": "execute_result",
          "data": {
            "text/plain": [
              "                                Style  StyleID  Size(L)     OG     FG   ABV  \\\n",
              "0                           Cream Ale       45    21.77  1.055  1.013  5.48   \n",
              "1  Holiday/Winter Special Spiced Beer       85    20.82  1.083  1.021  8.16   \n",
              "2                        American IPA        7    18.93  1.063  1.018  5.91   \n",
              "3                        American IPA        7    22.71  1.061  1.017  5.80   \n",
              "4                   Belgian Blond Ale       20    50.00  1.060  1.010  6.48   \n",
              "\n",
              "     IBU  Color  BoilSize  BoilTime  BoilGravity  Efficiency  MashThickness  \\\n",
              "0  17.65   4.83     28.39        75        1.038        70.0            NaN   \n",
              "1  60.65  15.64     24.61        60        1.070        70.0            NaN   \n",
              "2  59.25   8.98     22.71        60          NaN        70.0            NaN   \n",
              "3  54.48   8.50     26.50        60          NaN        70.0            NaN   \n",
              "4  17.84   4.57     60.00        90        1.050        72.0            NaN   \n",
              "\n",
              "         SugarScale BrewMethod  PitchRate  PrimaryTemp PrimingMethod  \\\n",
              "0  Specific Gravity  All Grain        NaN        17.78    corn sugar   \n",
              "1  Specific Gravity  All Grain        NaN          NaN           NaN   \n",
              "2  Specific Gravity    extract        NaN          NaN           NaN   \n",
              "3  Specific Gravity  All Grain        NaN          NaN           NaN   \n",
              "4  Specific Gravity  All Grain        NaN        19.00    Sukkerlake   \n",
              "\n",
              "    PrimingAmount   UserId  \n",
              "0          4.5 oz    116.0  \n",
              "1             NaN    955.0  \n",
              "2             NaN      NaN  \n",
              "3             NaN      NaN  \n",
              "4  6-7 g sukker/l  18325.0  "
            ],
            "text/html": [
              "\n",
              "\n",
              "  <div id=\"df-716e63d1-6b8f-4aee-9179-a8304728d3ef\">\n",
              "    <div class=\"colab-df-container\">\n",
              "      <div>\n",
              "<style scoped>\n",
              "    .dataframe tbody tr th:only-of-type {\n",
              "        vertical-align: middle;\n",
              "    }\n",
              "\n",
              "    .dataframe tbody tr th {\n",
              "        vertical-align: top;\n",
              "    }\n",
              "\n",
              "    .dataframe thead th {\n",
              "        text-align: right;\n",
              "    }\n",
              "</style>\n",
              "<table border=\"1\" class=\"dataframe\">\n",
              "  <thead>\n",
              "    <tr style=\"text-align: right;\">\n",
              "      <th></th>\n",
              "      <th>Style</th>\n",
              "      <th>StyleID</th>\n",
              "      <th>Size(L)</th>\n",
              "      <th>OG</th>\n",
              "      <th>FG</th>\n",
              "      <th>ABV</th>\n",
              "      <th>IBU</th>\n",
              "      <th>Color</th>\n",
              "      <th>BoilSize</th>\n",
              "      <th>BoilTime</th>\n",
              "      <th>BoilGravity</th>\n",
              "      <th>Efficiency</th>\n",
              "      <th>MashThickness</th>\n",
              "      <th>SugarScale</th>\n",
              "      <th>BrewMethod</th>\n",
              "      <th>PitchRate</th>\n",
              "      <th>PrimaryTemp</th>\n",
              "      <th>PrimingMethod</th>\n",
              "      <th>PrimingAmount</th>\n",
              "      <th>UserId</th>\n",
              "    </tr>\n",
              "  </thead>\n",
              "  <tbody>\n",
              "    <tr>\n",
              "      <th>0</th>\n",
              "      <td>Cream Ale</td>\n",
              "      <td>45</td>\n",
              "      <td>21.77</td>\n",
              "      <td>1.055</td>\n",
              "      <td>1.013</td>\n",
              "      <td>5.48</td>\n",
              "      <td>17.65</td>\n",
              "      <td>4.83</td>\n",
              "      <td>28.39</td>\n",
              "      <td>75</td>\n",
              "      <td>1.038</td>\n",
              "      <td>70.0</td>\n",
              "      <td>NaN</td>\n",
              "      <td>Specific Gravity</td>\n",
              "      <td>All Grain</td>\n",
              "      <td>NaN</td>\n",
              "      <td>17.78</td>\n",
              "      <td>corn sugar</td>\n",
              "      <td>4.5 oz</td>\n",
              "      <td>116.0</td>\n",
              "    </tr>\n",
              "    <tr>\n",
              "      <th>1</th>\n",
              "      <td>Holiday/Winter Special Spiced Beer</td>\n",
              "      <td>85</td>\n",
              "      <td>20.82</td>\n",
              "      <td>1.083</td>\n",
              "      <td>1.021</td>\n",
              "      <td>8.16</td>\n",
              "      <td>60.65</td>\n",
              "      <td>15.64</td>\n",
              "      <td>24.61</td>\n",
              "      <td>60</td>\n",
              "      <td>1.070</td>\n",
              "      <td>70.0</td>\n",
              "      <td>NaN</td>\n",
              "      <td>Specific Gravity</td>\n",
              "      <td>All Grain</td>\n",
              "      <td>NaN</td>\n",
              "      <td>NaN</td>\n",
              "      <td>NaN</td>\n",
              "      <td>NaN</td>\n",
              "      <td>955.0</td>\n",
              "    </tr>\n",
              "    <tr>\n",
              "      <th>2</th>\n",
              "      <td>American IPA</td>\n",
              "      <td>7</td>\n",
              "      <td>18.93</td>\n",
              "      <td>1.063</td>\n",
              "      <td>1.018</td>\n",
              "      <td>5.91</td>\n",
              "      <td>59.25</td>\n",
              "      <td>8.98</td>\n",
              "      <td>22.71</td>\n",
              "      <td>60</td>\n",
              "      <td>NaN</td>\n",
              "      <td>70.0</td>\n",
              "      <td>NaN</td>\n",
              "      <td>Specific Gravity</td>\n",
              "      <td>extract</td>\n",
              "      <td>NaN</td>\n",
              "      <td>NaN</td>\n",
              "      <td>NaN</td>\n",
              "      <td>NaN</td>\n",
              "      <td>NaN</td>\n",
              "    </tr>\n",
              "    <tr>\n",
              "      <th>3</th>\n",
              "      <td>American IPA</td>\n",
              "      <td>7</td>\n",
              "      <td>22.71</td>\n",
              "      <td>1.061</td>\n",
              "      <td>1.017</td>\n",
              "      <td>5.80</td>\n",
              "      <td>54.48</td>\n",
              "      <td>8.50</td>\n",
              "      <td>26.50</td>\n",
              "      <td>60</td>\n",
              "      <td>NaN</td>\n",
              "      <td>70.0</td>\n",
              "      <td>NaN</td>\n",
              "      <td>Specific Gravity</td>\n",
              "      <td>All Grain</td>\n",
              "      <td>NaN</td>\n",
              "      <td>NaN</td>\n",
              "      <td>NaN</td>\n",
              "      <td>NaN</td>\n",
              "      <td>NaN</td>\n",
              "    </tr>\n",
              "    <tr>\n",
              "      <th>4</th>\n",
              "      <td>Belgian Blond Ale</td>\n",
              "      <td>20</td>\n",
              "      <td>50.00</td>\n",
              "      <td>1.060</td>\n",
              "      <td>1.010</td>\n",
              "      <td>6.48</td>\n",
              "      <td>17.84</td>\n",
              "      <td>4.57</td>\n",
              "      <td>60.00</td>\n",
              "      <td>90</td>\n",
              "      <td>1.050</td>\n",
              "      <td>72.0</td>\n",
              "      <td>NaN</td>\n",
              "      <td>Specific Gravity</td>\n",
              "      <td>All Grain</td>\n",
              "      <td>NaN</td>\n",
              "      <td>19.00</td>\n",
              "      <td>Sukkerlake</td>\n",
              "      <td>6-7 g sukker/l</td>\n",
              "      <td>18325.0</td>\n",
              "    </tr>\n",
              "  </tbody>\n",
              "</table>\n",
              "</div>\n",
              "      <button class=\"colab-df-convert\" onclick=\"convertToInteractive('df-716e63d1-6b8f-4aee-9179-a8304728d3ef')\"\n",
              "              title=\"Convert this dataframe to an interactive table.\"\n",
              "              style=\"display:none;\">\n",
              "\n",
              "  <svg xmlns=\"http://www.w3.org/2000/svg\" height=\"24px\"viewBox=\"0 0 24 24\"\n",
              "       width=\"24px\">\n",
              "    <path d=\"M0 0h24v24H0V0z\" fill=\"none\"/>\n",
              "    <path d=\"M18.56 5.44l.94 2.06.94-2.06 2.06-.94-2.06-.94-.94-2.06-.94 2.06-2.06.94zm-11 1L8.5 8.5l.94-2.06 2.06-.94-2.06-.94L8.5 2.5l-.94 2.06-2.06.94zm10 10l.94 2.06.94-2.06 2.06-.94-2.06-.94-.94-2.06-.94 2.06-2.06.94z\"/><path d=\"M17.41 7.96l-1.37-1.37c-.4-.4-.92-.59-1.43-.59-.52 0-1.04.2-1.43.59L10.3 9.45l-7.72 7.72c-.78.78-.78 2.05 0 2.83L4 21.41c.39.39.9.59 1.41.59.51 0 1.02-.2 1.41-.59l7.78-7.78 2.81-2.81c.8-.78.8-2.07 0-2.86zM5.41 20L4 18.59l7.72-7.72 1.47 1.35L5.41 20z\"/>\n",
              "  </svg>\n",
              "      </button>\n",
              "\n",
              "\n",
              "\n",
              "    <div id=\"df-e884283c-748e-4389-85c6-e0c2b67156b6\">\n",
              "      <button class=\"colab-df-quickchart\" onclick=\"quickchart('df-e884283c-748e-4389-85c6-e0c2b67156b6')\"\n",
              "              title=\"Suggest charts.\"\n",
              "              style=\"display:none;\">\n",
              "\n",
              "<svg xmlns=\"http://www.w3.org/2000/svg\" height=\"24px\"viewBox=\"0 0 24 24\"\n",
              "     width=\"24px\">\n",
              "    <g>\n",
              "        <path d=\"M19 3H5c-1.1 0-2 .9-2 2v14c0 1.1.9 2 2 2h14c1.1 0 2-.9 2-2V5c0-1.1-.9-2-2-2zM9 17H7v-7h2v7zm4 0h-2V7h2v10zm4 0h-2v-4h2v4z\"/>\n",
              "    </g>\n",
              "</svg>\n",
              "      </button>\n",
              "    </div>\n",
              "\n",
              "<style>\n",
              "  .colab-df-quickchart {\n",
              "    background-color: #E8F0FE;\n",
              "    border: none;\n",
              "    border-radius: 50%;\n",
              "    cursor: pointer;\n",
              "    display: none;\n",
              "    fill: #1967D2;\n",
              "    height: 32px;\n",
              "    padding: 0 0 0 0;\n",
              "    width: 32px;\n",
              "  }\n",
              "\n",
              "  .colab-df-quickchart:hover {\n",
              "    background-color: #E2EBFA;\n",
              "    box-shadow: 0px 1px 2px rgba(60, 64, 67, 0.3), 0px 1px 3px 1px rgba(60, 64, 67, 0.15);\n",
              "    fill: #174EA6;\n",
              "  }\n",
              "\n",
              "  [theme=dark] .colab-df-quickchart {\n",
              "    background-color: #3B4455;\n",
              "    fill: #D2E3FC;\n",
              "  }\n",
              "\n",
              "  [theme=dark] .colab-df-quickchart:hover {\n",
              "    background-color: #434B5C;\n",
              "    box-shadow: 0px 1px 3px 1px rgba(0, 0, 0, 0.15);\n",
              "    filter: drop-shadow(0px 1px 2px rgba(0, 0, 0, 0.3));\n",
              "    fill: #FFFFFF;\n",
              "  }\n",
              "</style>\n",
              "\n",
              "    <script>\n",
              "      async function quickchart(key) {\n",
              "        const containerElement = document.querySelector('#' + key);\n",
              "        const charts = await google.colab.kernel.invokeFunction(\n",
              "            'suggestCharts', [key], {});\n",
              "      }\n",
              "    </script>\n",
              "\n",
              "      <script>\n",
              "\n",
              "function displayQuickchartButton(domScope) {\n",
              "  let quickchartButtonEl =\n",
              "    domScope.querySelector('#df-e884283c-748e-4389-85c6-e0c2b67156b6 button.colab-df-quickchart');\n",
              "  quickchartButtonEl.style.display =\n",
              "    google.colab.kernel.accessAllowed ? 'block' : 'none';\n",
              "}\n",
              "\n",
              "        displayQuickchartButton(document);\n",
              "      </script>\n",
              "      <style>\n",
              "    .colab-df-container {\n",
              "      display:flex;\n",
              "      flex-wrap:wrap;\n",
              "      gap: 12px;\n",
              "    }\n",
              "\n",
              "    .colab-df-convert {\n",
              "      background-color: #E8F0FE;\n",
              "      border: none;\n",
              "      border-radius: 50%;\n",
              "      cursor: pointer;\n",
              "      display: none;\n",
              "      fill: #1967D2;\n",
              "      height: 32px;\n",
              "      padding: 0 0 0 0;\n",
              "      width: 32px;\n",
              "    }\n",
              "\n",
              "    .colab-df-convert:hover {\n",
              "      background-color: #E2EBFA;\n",
              "      box-shadow: 0px 1px 2px rgba(60, 64, 67, 0.3), 0px 1px 3px 1px rgba(60, 64, 67, 0.15);\n",
              "      fill: #174EA6;\n",
              "    }\n",
              "\n",
              "    [theme=dark] .colab-df-convert {\n",
              "      background-color: #3B4455;\n",
              "      fill: #D2E3FC;\n",
              "    }\n",
              "\n",
              "    [theme=dark] .colab-df-convert:hover {\n",
              "      background-color: #434B5C;\n",
              "      box-shadow: 0px 1px 3px 1px rgba(0, 0, 0, 0.15);\n",
              "      filter: drop-shadow(0px 1px 2px rgba(0, 0, 0, 0.3));\n",
              "      fill: #FFFFFF;\n",
              "    }\n",
              "  </style>\n",
              "\n",
              "      <script>\n",
              "        const buttonEl =\n",
              "          document.querySelector('#df-716e63d1-6b8f-4aee-9179-a8304728d3ef button.colab-df-convert');\n",
              "        buttonEl.style.display =\n",
              "          google.colab.kernel.accessAllowed ? 'block' : 'none';\n",
              "\n",
              "        async function convertToInteractive(key) {\n",
              "          const element = document.querySelector('#df-716e63d1-6b8f-4aee-9179-a8304728d3ef');\n",
              "          const dataTable =\n",
              "            await google.colab.kernel.invokeFunction('convertToInteractive',\n",
              "                                                     [key], {});\n",
              "          if (!dataTable) return;\n",
              "\n",
              "          const docLinkHtml = 'Like what you see? Visit the ' +\n",
              "            '<a target=\"_blank\" href=https://colab.research.google.com/notebooks/data_table.ipynb>data table notebook</a>'\n",
              "            + ' to learn more about interactive tables.';\n",
              "          element.innerHTML = '';\n",
              "          dataTable['output_type'] = 'display_data';\n",
              "          await google.colab.output.renderOutput(dataTable, element);\n",
              "          const docLink = document.createElement('div');\n",
              "          docLink.innerHTML = docLinkHtml;\n",
              "          element.appendChild(docLink);\n",
              "        }\n",
              "      </script>\n",
              "    </div>\n",
              "  </div>\n"
            ]
          },
          "metadata": {},
          "execution_count": 5
        }
      ]
    },
    {
      "cell_type": "code",
      "source": [
        "dados.isnull().sum()/len(dados['Style']) * 100"
      ],
      "metadata": {
        "colab": {
          "base_uri": "https://localhost:8080/"
        },
        "id": "cB7M2HJ9qT-p",
        "outputId": "a088d506-9be9-400f-b6eb-15e9b76a1d80"
      },
      "execution_count": 6,
      "outputs": [
        {
          "output_type": "execute_result",
          "data": {
            "text/plain": [
              "Style             0.806921\n",
              "StyleID           0.000000\n",
              "Size(L)           0.000000\n",
              "OG                0.000000\n",
              "FG                0.000000\n",
              "ABV               0.000000\n",
              "IBU               0.000000\n",
              "Color             0.000000\n",
              "BoilSize          0.000000\n",
              "BoilTime          0.000000\n",
              "BoilGravity       4.048144\n",
              "Efficiency        0.000000\n",
              "MashThickness    40.432705\n",
              "SugarScale        0.000000\n",
              "BrewMethod        0.000000\n",
              "PitchRate        53.143066\n",
              "PrimaryTemp      30.681957\n",
              "PrimingMethod    90.839550\n",
              "PrimingAmount    93.536508\n",
              "UserId           68.358132\n",
              "dtype: float64"
            ]
          },
          "metadata": {},
          "execution_count": 6
        }
      ]
    },
    {
      "cell_type": "code",
      "source": [
        "dados.drop('PrimingMethod', axis = 1, inplace= True)\n",
        "dados.drop('PrimingAmount', axis = 1, inplace= True)\n",
        "dados.drop('UserId', axis = 1, inplace= True)\n",
        "dados.drop('Style', axis = 1, inplace= True)"
      ],
      "metadata": {
        "id": "ziXhI59pt4kl"
      },
      "execution_count": 7,
      "outputs": []
    },
    {
      "cell_type": "code",
      "source": [
        "dados.isnull().sum()/len(dados['StyleID']) * 100"
      ],
      "metadata": {
        "colab": {
          "base_uri": "https://localhost:8080/"
        },
        "id": "NkCbGhXmwpOY",
        "outputId": "89619707-5770-4c99-80ab-6f943eb64451"
      },
      "execution_count": 8,
      "outputs": [
        {
          "output_type": "execute_result",
          "data": {
            "text/plain": [
              "StyleID           0.000000\n",
              "Size(L)           0.000000\n",
              "OG                0.000000\n",
              "FG                0.000000\n",
              "ABV               0.000000\n",
              "IBU               0.000000\n",
              "Color             0.000000\n",
              "BoilSize          0.000000\n",
              "BoilTime          0.000000\n",
              "BoilGravity       4.048144\n",
              "Efficiency        0.000000\n",
              "MashThickness    40.432705\n",
              "SugarScale        0.000000\n",
              "BrewMethod        0.000000\n",
              "PitchRate        53.143066\n",
              "PrimaryTemp      30.681957\n",
              "dtype: float64"
            ]
          },
          "metadata": {},
          "execution_count": 8
        }
      ]
    },
    {
      "cell_type": "code",
      "source": [
        "dados.hist(column=['BoilGravity','MashThickness','PitchRate','PrimaryTemp'])\n",
        "plt.show()"
      ],
      "metadata": {
        "colab": {
          "base_uri": "https://localhost:8080/",
          "height": 452
        },
        "id": "xEPtbw8kgmDj",
        "outputId": "70aa38bb-5d05-4112-9d64-b1e9f4efd6a1"
      },
      "execution_count": 113,
      "outputs": [
        {
          "output_type": "display_data",
          "data": {
            "text/plain": [
              "<Figure size 640x480 with 4 Axes>"
            ],
            "image/png": "[encoded data removed]"
          },
          "metadata": {}
        }
      ]
    },
    {
      "cell_type": "code",
      "source": [
        "dados['BoilGravity'].value_counts()"
      ],
      "metadata": {
        "colab": {
          "base_uri": "https://localhost:8080/"
        },
        "id": "tn2c3aZHyNeb",
        "outputId": "6af3faa6-2117-403a-f63e-7026f8237cc1"
      },
      "execution_count": 9,
      "outputs": [
        {
          "output_type": "execute_result",
          "data": {
            "text/plain": [
              "1.044     2502\n",
              "1.042     2470\n",
              "1.043     2438\n",
              "1.041     2391\n",
              "1.040     2304\n",
              "          ... \n",
              "23.900       1\n",
              "25.300       1\n",
              "1.237        1\n",
              "33.300       1\n",
              "1.266        1\n",
              "Name: BoilGravity, Length: 509, dtype: int64"
            ]
          },
          "metadata": {},
          "execution_count": 9
        }
      ]
    },
    {
      "cell_type": "code",
      "source": [
        "dados['BoilGravity'].fillna(dados['BoilGravity'].median(), inplace = True)\n",
        "dados['BoilGravity'].isnull().sum()"
      ],
      "metadata": {
        "colab": {
          "base_uri": "https://localhost:8080/"
        },
        "id": "kNy3wQbkr6mV",
        "outputId": "cb73c541-4986-4aa2-ca51-caf736f31c1a"
      },
      "execution_count": 114,
      "outputs": [
        {
          "output_type": "execute_result",
          "data": {
            "text/plain": [
              "0"
            ]
          },
          "metadata": {},
          "execution_count": 114
        }
      ]
    },
    {
      "cell_type": "code",
      "source": [
        "dados['MashThickness'].value_counts()"
      ],
      "metadata": {
        "colab": {
          "base_uri": "https://localhost:8080/"
        },
        "id": "pMhebwYoyUNv",
        "outputId": "9f74207f-64d6-433e-bf6f-ddec84de7aff"
      },
      "execution_count": 115,
      "outputs": [
        {
          "output_type": "execute_result",
          "data": {
            "text/plain": [
              "2.127235     29864\n",
              "1.500000     15499\n",
              "3.000000      8312\n",
              "1.250000      4923\n",
              "2.500000      1864\n",
              "             ...  \n",
              "1.133000         1\n",
              "2.285000         1\n",
              "27.500000        1\n",
              "1.579000         1\n",
              "3.181800         1\n",
              "Name: MashThickness, Length: 568, dtype: int64"
            ]
          },
          "metadata": {},
          "execution_count": 115
        }
      ]
    },
    {
      "cell_type": "code",
      "source": [
        "dados['MashThickness'].fillna(dados['MashThickness'].median(), inplace = True)\n",
        "dados['MashThickness'].isnull().sum()"
      ],
      "metadata": {
        "colab": {
          "base_uri": "https://localhost:8080/"
        },
        "id": "y5YUfqfYx0Wt",
        "outputId": "f2558018-c432-408f-89a0-8b3bda4286fe"
      },
      "execution_count": 116,
      "outputs": [
        {
          "output_type": "execute_result",
          "data": {
            "text/plain": [
              "0"
            ]
          },
          "metadata": {},
          "execution_count": 116
        }
      ]
    },
    {
      "cell_type": "code",
      "source": [
        "dados['PitchRate'].value_counts()"
      ],
      "metadata": {
        "colab": {
          "base_uri": "https://localhost:8080/"
        },
        "id": "7yKBlwhdyZF0",
        "outputId": "fec6714b-e9b2-4859-bbbe-33235fbd6277"
      },
      "execution_count": 117,
      "outputs": [
        {
          "output_type": "execute_result",
          "data": {
            "text/plain": [
              "0.750468    39252\n",
              "0.350000     9477\n",
              "0.750000     9002\n",
              "0.500000     5469\n",
              "1.000000     5194\n",
              "1.250000     2405\n",
              "1.500000     1838\n",
              "2.000000      640\n",
              "1.750000      533\n",
              "0.000000       51\n",
              "Name: PitchRate, dtype: int64"
            ]
          },
          "metadata": {},
          "execution_count": 117
        }
      ]
    },
    {
      "cell_type": "code",
      "source": [
        "dados['PitchRate'].fillna(dados['PitchRate'].mean(), inplace = True)\n",
        "dados['PitchRate'].isnull().sum()"
      ],
      "metadata": {
        "colab": {
          "base_uri": "https://localhost:8080/"
        },
        "id": "YjPhxDtIsi0V",
        "outputId": "f25166d5-af72-41b4-b650-943bc7c3c28e"
      },
      "execution_count": 118,
      "outputs": [
        {
          "output_type": "execute_result",
          "data": {
            "text/plain": [
              "0"
            ]
          },
          "metadata": {},
          "execution_count": 118
        }
      ]
    },
    {
      "cell_type": "code",
      "source": [
        "dados['PrimaryTemp'].value_counts()"
      ],
      "metadata": {
        "colab": {
          "base_uri": "https://localhost:8080/"
        },
        "id": "j5TCKuU_yfdA",
        "outputId": "4aadaf8f-4543-4c3d-db00-ed96312d4c63"
      },
      "execution_count": 119,
      "outputs": [
        {
          "output_type": "execute_result",
          "data": {
            "text/plain": [
              " 19.175641    22662\n",
              " 20.000000    14185\n",
              " 21.110000     4622\n",
              " 18.330000     4182\n",
              " 18.000000     4129\n",
              "              ...  \n",
              " 20.780000        1\n",
              " 2.000000         1\n",
              " 29.500000        1\n",
              "-10.560000        1\n",
              " 23.300000        1\n",
              "Name: PrimaryTemp, Length: 218, dtype: int64"
            ]
          },
          "metadata": {},
          "execution_count": 119
        }
      ]
    },
    {
      "cell_type": "code",
      "source": [
        "dados['PrimaryTemp'].fillna(dados['PrimaryTemp'].median(), inplace = True)\n",
        "dados['PrimaryTemp'].isnull().sum()"
      ],
      "metadata": {
        "colab": {
          "base_uri": "https://localhost:8080/"
        },
        "id": "ijnct4CjyHSA",
        "outputId": "cbb9bbb9-4fc1-47d4-8eda-92300d48eaad"
      },
      "execution_count": 120,
      "outputs": [
        {
          "output_type": "execute_result",
          "data": {
            "text/plain": [
              "0"
            ]
          },
          "metadata": {},
          "execution_count": 120
        }
      ]
    },
    {
      "cell_type": "code",
      "source": [
        "dados.dtypes"
      ],
      "metadata": {
        "colab": {
          "base_uri": "https://localhost:8080/"
        },
        "id": "p8UEj73XyLY3",
        "outputId": "29aae085-ae5e-4e61-bb11-05aaa3478787"
      },
      "execution_count": 121,
      "outputs": [
        {
          "output_type": "execute_result",
          "data": {
            "text/plain": [
              "StyleID            int64\n",
              "Size(L)          float64\n",
              "OG               float64\n",
              "FG               float64\n",
              "ABV              float64\n",
              "IBU              float64\n",
              "Color            float64\n",
              "BoilSize         float64\n",
              "BoilTime           int64\n",
              "BoilGravity      float64\n",
              "Efficiency       float64\n",
              "MashThickness    float64\n",
              "SugarScale         int64\n",
              "PitchRate        float64\n",
              "PrimaryTemp      float64\n",
              "dtype: object"
            ]
          },
          "metadata": {},
          "execution_count": 121
        }
      ]
    },
    {
      "cell_type": "code",
      "source": [
        "dados['SugarScale'].value_counts()"
      ],
      "metadata": {
        "colab": {
          "base_uri": "https://localhost:8080/"
        },
        "id": "YWVj_ovX1CuD",
        "outputId": "69506d9a-1370-43ac-8470-0aa3f6bd4520"
      },
      "execution_count": 18,
      "outputs": [
        {
          "output_type": "execute_result",
          "data": {
            "text/plain": [
              "Specific Gravity    71959\n",
              "Plato                1902\n",
              "Name: SugarScale, dtype: int64"
            ]
          },
          "metadata": {},
          "execution_count": 18
        }
      ]
    },
    {
      "cell_type": "code",
      "source": [
        "dados['SugarScale']= dados['SugarScale'].replace('Specific Gravity', 0)\n",
        "dados['SugarScale']= dados['SugarScale'].replace('Plato', 1)"
      ],
      "metadata": {
        "id": "NDjmzQoh1K7d"
      },
      "execution_count": 19,
      "outputs": []
    },
    {
      "cell_type": "code",
      "source": [
        "dados['BrewMethod'].value_counts()"
      ],
      "metadata": {
        "colab": {
          "base_uri": "https://localhost:8080/"
        },
        "id": "YJyt9coc1ozL",
        "outputId": "24153d13-deeb-4788-a162-24f8cd945d64"
      },
      "execution_count": 20,
      "outputs": [
        {
          "output_type": "execute_result",
          "data": {
            "text/plain": [
              "All Grain       49692\n",
              "BIAB            12016\n",
              "extract          8626\n",
              "Partial Mash     3527\n",
              "Name: BrewMethod, dtype: int64"
            ]
          },
          "metadata": {},
          "execution_count": 20
        }
      ]
    },
    {
      "cell_type": "code",
      "source": [
        "brew = pd.get_dummies(dados['BrewMethod'])\n",
        "brew.shape, dados.shape"
      ],
      "metadata": {
        "colab": {
          "base_uri": "https://localhost:8080/"
        },
        "id": "dT5Bqdrz1yJ2",
        "outputId": "9bd8b967-7a1d-4d95-d0ec-2b89b435b4f1"
      },
      "execution_count": 21,
      "outputs": [
        {
          "output_type": "execute_result",
          "data": {
            "text/plain": [
              "((73861, 4), (73861, 16))"
            ]
          },
          "metadata": {},
          "execution_count": 21
        }
      ]
    },
    {
      "cell_type": "code",
      "source": [
        "dados.drop('BrewMethod', axis = 1, inplace = True)"
      ],
      "metadata": {
        "id": "x6rBss-E29Xo"
      },
      "execution_count": 22,
      "outputs": []
    },
    {
      "cell_type": "code",
      "source": [
        "dadosConcatenados = pd.concat([dados, brew], axis=1)"
      ],
      "metadata": {
        "id": "cBPO85cX3MtL"
      },
      "execution_count": 122,
      "outputs": []
    },
    {
      "cell_type": "code",
      "source": [
        "dadosConcatenados.dtypes"
      ],
      "metadata": {
        "colab": {
          "base_uri": "https://localhost:8080/"
        },
        "id": "oqyoKNAJ34Uv",
        "outputId": "29089ce5-e081-415a-b7c3-09d648199b27"
      },
      "execution_count": 24,
      "outputs": [
        {
          "output_type": "execute_result",
          "data": {
            "text/plain": [
              "StyleID            int64\n",
              "Size(L)          float64\n",
              "OG               float64\n",
              "FG               float64\n",
              "ABV              float64\n",
              "IBU              float64\n",
              "Color            float64\n",
              "BoilSize         float64\n",
              "BoilTime           int64\n",
              "BoilGravity      float64\n",
              "Efficiency       float64\n",
              "MashThickness    float64\n",
              "SugarScale         int64\n",
              "PitchRate        float64\n",
              "PrimaryTemp      float64\n",
              "All Grain          uint8\n",
              "BIAB               uint8\n",
              "Partial Mash       uint8\n",
              "extract            uint8\n",
              "dtype: object"
            ]
          },
          "metadata": {},
          "execution_count": 24
        }
      ]
    },
    {
      "cell_type": "code",
      "source": [
        "dadosConcatenados.isnull().sum()"
      ],
      "metadata": {
        "colab": {
          "base_uri": "https://localhost:8080/"
        },
        "id": "eXayp_S84yi6",
        "outputId": "32e6d18c-ac80-43e8-abc0-d546dd68651d"
      },
      "execution_count": 25,
      "outputs": [
        {
          "output_type": "execute_result",
          "data": {
            "text/plain": [
              "StyleID          0\n",
              "Size(L)          0\n",
              "OG               0\n",
              "FG               0\n",
              "ABV              0\n",
              "IBU              0\n",
              "Color            0\n",
              "BoilSize         0\n",
              "BoilTime         0\n",
              "BoilGravity      0\n",
              "Efficiency       0\n",
              "MashThickness    0\n",
              "SugarScale       0\n",
              "PitchRate        0\n",
              "PrimaryTemp      0\n",
              "All Grain        0\n",
              "BIAB             0\n",
              "Partial Mash     0\n",
              "extract          0\n",
              "dtype: int64"
            ]
          },
          "metadata": {},
          "execution_count": 25
        }
      ]
    },
    {
      "cell_type": "code",
      "source": [
        "plt.figure(figsize=(10,10))\n",
        "sns.heatmap(dadosConcatenados.corr())"
      ],
      "metadata": {
        "colab": {
          "base_uri": "https://localhost:8080/",
          "height": 944
        },
        "id": "3uk6FUXu5BF5",
        "outputId": "88ff22d1-6a75-4374-aa3f-2cf3c7784a2a"
      },
      "execution_count": 26,
      "outputs": [
        {
          "output_type": "execute_result",
          "data": {
            "text/plain": [
              "<Axes: >"
            ]
          },
          "metadata": {},
          "execution_count": 26
        },
        {
          "output_type": "display_data",
          "data": {
            "text/plain": [
              "<Figure size 1000x1000 with 2 Axes>"
            ],
            "image/png": "[encoded data removed]"
          },
          "metadata": {}
        }
      ]
    },
    {
      "cell_type": "code",
      "source": [
        "dados.corr()"
      ],
      "metadata": {
        "colab": {
          "base_uri": "https://localhost:8080/",
          "height": 520
        },
        "id": "NSHp7ta95NuX",
        "outputId": "475eb915-420c-4582-c2eb-1e34054fac0a"
      },
      "execution_count": 27,
      "outputs": [
        {
          "output_type": "execute_result",
          "data": {
            "text/plain": [
              "                StyleID   Size(L)        OG        FG       ABV       IBU  \\\n",
              "StyleID        1.000000 -0.006522  0.002699  0.007336  0.006617 -0.141124   \n",
              "Size(L)       -0.006522  1.000000  0.162237  0.141614 -0.013527 -0.029917   \n",
              "OG             0.002699  0.162237  1.000000  0.936347  0.029432 -0.001655   \n",
              "FG             0.007336  0.141614  0.936347  1.000000  0.026851 -0.000719   \n",
              "ABV            0.006617 -0.013527  0.029432  0.026851  1.000000  0.290889   \n",
              "IBU           -0.141124 -0.029917 -0.001655 -0.000719  0.290889  1.000000   \n",
              "Color          0.166669 -0.018068  0.013632  0.029848  0.271332  0.060283   \n",
              "BoilSize      -0.006301  0.994143  0.165162  0.142974 -0.009800 -0.028258   \n",
              "BoilTime       0.077969  0.044848  0.031825  0.028930  0.120629  0.078694   \n",
              "BoilGravity    0.002278  0.175921  0.962264  0.903288  0.024827 -0.007304   \n",
              "Efficiency     0.021515  0.108826  0.067610  0.061173  0.047853 -0.033172   \n",
              "MashThickness  0.004754  0.018220  0.042440  0.036757 -0.051918 -0.035046   \n",
              "SugarScale     0.003359  0.165177  0.966978  0.879895 -0.011754 -0.014984   \n",
              "PitchRate      0.054350  0.016699  0.013844  0.008677  0.089161  0.004372   \n",
              "PrimaryTemp   -0.016434  0.003178  0.000424  0.003551  0.047781  0.029349   \n",
              "\n",
              "                  Color  BoilSize  BoilTime  BoilGravity  Efficiency  \\\n",
              "StyleID        0.166669 -0.006301  0.077969     0.002278    0.021515   \n",
              "Size(L)       -0.018068  0.994143  0.044848     0.175921    0.108826   \n",
              "OG             0.013632  0.165162  0.031825     0.962264    0.067610   \n",
              "FG             0.029848  0.142974  0.028930     0.903288    0.061173   \n",
              "ABV            0.271332 -0.009800  0.120629     0.024827    0.047853   \n",
              "IBU            0.060283 -0.028258  0.078694    -0.007304   -0.033172   \n",
              "Color          1.000000 -0.016798  0.058089     0.013122   -0.017297   \n",
              "BoilSize      -0.016798  1.000000  0.051219     0.175798    0.121971   \n",
              "BoilTime       0.058089  0.051219  1.000000     0.026393    0.161295   \n",
              "BoilGravity    0.013122  0.175798  0.026393     1.000000    0.058193   \n",
              "Efficiency    -0.017297  0.121971  0.161295     0.058193    1.000000   \n",
              "MashThickness -0.029688  0.016756  0.005332     0.045140    0.001323   \n",
              "SugarScale    -0.005038  0.167185  0.027187     0.936439    0.069626   \n",
              "PitchRate      0.010953  0.019651  0.138103     0.010609    0.097442   \n",
              "PrimaryTemp    0.020996  0.002246 -0.067988     0.001854   -0.058385   \n",
              "\n",
              "               MashThickness  SugarScale  PitchRate  PrimaryTemp  \n",
              "StyleID             0.004754    0.003359   0.054350    -0.016434  \n",
              "Size(L)             0.018220    0.165177   0.016699     0.003178  \n",
              "OG                  0.042440    0.966978   0.013844     0.000424  \n",
              "FG                  0.036757    0.879895   0.008677     0.003551  \n",
              "ABV                -0.051918   -0.011754   0.089161     0.047781  \n",
              "IBU                -0.035046   -0.014984   0.004372     0.029349  \n",
              "Color              -0.029688   -0.005038   0.010953     0.020996  \n",
              "BoilSize            0.016756    0.167185   0.019651     0.002246  \n",
              "BoilTime            0.005332    0.027187   0.138103    -0.067988  \n",
              "BoilGravity         0.045140    0.936439   0.010609     0.001854  \n",
              "Efficiency          0.001323    0.069626   0.097442    -0.058385  \n",
              "MashThickness       1.000000    0.048527  -0.007496     0.005705  \n",
              "SugarScale          0.048527    1.000000   0.008818    -0.003541  \n",
              "PitchRate          -0.007496    0.008818   1.000000    -0.225523  \n",
              "PrimaryTemp         0.005705   -0.003541  -0.225523     1.000000  "
            ],
            "text/html": [
              "\n",
              "\n",
              "  <div id=\"df-60493dc8-d2ec-41ef-a837-ccb88d2cb8b7\">\n",
              "    <div class=\"colab-df-container\">\n",
              "      <div>\n",
              "<style scoped>\n",
              "    .dataframe tbody tr th:only-of-type {\n",
              "        vertical-align: middle;\n",
              "    }\n",
              "\n",
              "    .dataframe tbody tr th {\n",
              "        vertical-align: top;\n",
              "    }\n",
              "\n",
              "    .dataframe thead th {\n",
              "        text-align: right;\n",
              "    }\n",
              "</style>\n",
              "<table border=\"1\" class=\"dataframe\">\n",
              "  <thead>\n",
              "    <tr style=\"text-align: right;\">\n",
              "      <th></th>\n",
              "      <th>StyleID</th>\n",
              "      <th>Size(L)</th>\n",
              "      <th>OG</th>\n",
              "      <th>FG</th>\n",
              "      <th>ABV</th>\n",
              "      <th>IBU</th>\n",
              "      <th>Color</th>\n",
              "      <th>BoilSize</th>\n",
              "      <th>BoilTime</th>\n",
              "      <th>BoilGravity</th>\n",
              "      <th>Efficiency</th>\n",
              "      <th>MashThickness</th>\n",
              "      <th>SugarScale</th>\n",
              "      <th>PitchRate</th>\n",
              "      <th>PrimaryTemp</th>\n",
              "    </tr>\n",
              "  </thead>\n",
              "  <tbody>\n",
              "    <tr>\n",
              "      <th>StyleID</th>\n",
              "      <td>1.000000</td>\n",
              "      <td>-0.006522</td>\n",
              "      <td>0.002699</td>\n",
              "      <td>0.007336</td>\n",
              "      <td>0.006617</td>\n",
              "      <td>-0.141124</td>\n",
              "      <td>0.166669</td>\n",
              "      <td>-0.006301</td>\n",
              "      <td>0.077969</td>\n",
              "      <td>0.002278</td>\n",
              "      <td>0.021515</td>\n",
              "      <td>0.004754</td>\n",
              "      <td>0.003359</td>\n",
              "      <td>0.054350</td>\n",
              "      <td>-0.016434</td>\n",
              "    </tr>\n",
              "    <tr>\n",
              "      <th>Size(L)</th>\n",
              "      <td>-0.006522</td>\n",
              "      <td>1.000000</td>\n",
              "      <td>0.162237</td>\n",
              "      <td>0.141614</td>\n",
              "      <td>-0.013527</td>\n",
              "      <td>-0.029917</td>\n",
              "      <td>-0.018068</td>\n",
              "      <td>0.994143</td>\n",
              "      <td>0.044848</td>\n",
              "      <td>0.175921</td>\n",
              "      <td>0.108826</td>\n",
              "      <td>0.018220</td>\n",
              "      <td>0.165177</td>\n",
              "      <td>0.016699</td>\n",
              "      <td>0.003178</td>\n",
              "    </tr>\n",
              "    <tr>\n",
              "      <th>OG</th>\n",
              "      <td>0.002699</td>\n",
              "      <td>0.162237</td>\n",
              "      <td>1.000000</td>\n",
              "      <td>0.936347</td>\n",
              "      <td>0.029432</td>\n",
              "      <td>-0.001655</td>\n",
              "      <td>0.013632</td>\n",
              "      <td>0.165162</td>\n",
              "      <td>0.031825</td>\n",
              "      <td>0.962264</td>\n",
              "      <td>0.067610</td>\n",
              "      <td>0.042440</td>\n",
              "      <td>0.966978</td>\n",
              "      <td>0.013844</td>\n",
              "      <td>0.000424</td>\n",
              "    </tr>\n",
              "    <tr>\n",
              "      <th>FG</th>\n",
              "      <td>0.007336</td>\n",
              "      <td>0.141614</td>\n",
              "      <td>0.936347</td>\n",
              "      <td>1.000000</td>\n",
              "      <td>0.026851</td>\n",
              "      <td>-0.000719</td>\n",
              "      <td>0.029848</td>\n",
              "      <td>0.142974</td>\n",
              "      <td>0.028930</td>\n",
              "      <td>0.903288</td>\n",
              "      <td>0.061173</td>\n",
              "      <td>0.036757</td>\n",
              "      <td>0.879895</td>\n",
              "      <td>0.008677</td>\n",
              "      <td>0.003551</td>\n",
              "    </tr>\n",
              "    <tr>\n",
              "      <th>ABV</th>\n",
              "      <td>0.006617</td>\n",
              "      <td>-0.013527</td>\n",
              "      <td>0.029432</td>\n",
              "      <td>0.026851</td>\n",
              "      <td>1.000000</td>\n",
              "      <td>0.290889</td>\n",
              "      <td>0.271332</td>\n",
              "      <td>-0.009800</td>\n",
              "      <td>0.120629</td>\n",
              "      <td>0.024827</td>\n",
              "      <td>0.047853</td>\n",
              "      <td>-0.051918</td>\n",
              "      <td>-0.011754</td>\n",
              "      <td>0.089161</td>\n",
              "      <td>0.047781</td>\n",
              "    </tr>\n",
              "    <tr>\n",
              "      <th>IBU</th>\n",
              "      <td>-0.141124</td>\n",
              "      <td>-0.029917</td>\n",
              "      <td>-0.001655</td>\n",
              "      <td>-0.000719</td>\n",
              "      <td>0.290889</td>\n",
              "      <td>1.000000</td>\n",
              "      <td>0.060283</td>\n",
              "      <td>-0.028258</td>\n",
              "      <td>0.078694</td>\n",
              "      <td>-0.007304</td>\n",
              "      <td>-0.033172</td>\n",
              "      <td>-0.035046</td>\n",
              "      <td>-0.014984</td>\n",
              "      <td>0.004372</td>\n",
              "      <td>0.029349</td>\n",
              "    </tr>\n",
              "    <tr>\n",
              "      <th>Color</th>\n",
              "      <td>0.166669</td>\n",
              "      <td>-0.018068</td>\n",
              "      <td>0.013632</td>\n",
              "      <td>0.029848</td>\n",
              "      <td>0.271332</td>\n",
              "      <td>0.060283</td>\n",
              "      <td>1.000000</td>\n",
              "      <td>-0.016798</td>\n",
              "      <td>0.058089</td>\n",
              "      <td>0.013122</td>\n",
              "      <td>-0.017297</td>\n",
              "      <td>-0.029688</td>\n",
              "      <td>-0.005038</td>\n",
              "      <td>0.010953</td>\n",
              "      <td>0.020996</td>\n",
              "    </tr>\n",
              "    <tr>\n",
              "      <th>BoilSize</th>\n",
              "      <td>-0.006301</td>\n",
              "      <td>0.994143</td>\n",
              "      <td>0.165162</td>\n",
              "      <td>0.142974</td>\n",
              "      <td>-0.009800</td>\n",
              "      <td>-0.028258</td>\n",
              "      <td>-0.016798</td>\n",
              "      <td>1.000000</td>\n",
              "      <td>0.051219</td>\n",
              "      <td>0.175798</td>\n",
              "      <td>0.121971</td>\n",
              "      <td>0.016756</td>\n",
              "      <td>0.167185</td>\n",
              "      <td>0.019651</td>\n",
              "      <td>0.002246</td>\n",
              "    </tr>\n",
              "    <tr>\n",
              "      <th>BoilTime</th>\n",
              "      <td>0.077969</td>\n",
              "      <td>0.044848</td>\n",
              "      <td>0.031825</td>\n",
              "      <td>0.028930</td>\n",
              "      <td>0.120629</td>\n",
              "      <td>0.078694</td>\n",
              "      <td>0.058089</td>\n",
              "      <td>0.051219</td>\n",
              "      <td>1.000000</td>\n",
              "      <td>0.026393</td>\n",
              "      <td>0.161295</td>\n",
              "      <td>0.005332</td>\n",
              "      <td>0.027187</td>\n",
              "      <td>0.138103</td>\n",
              "      <td>-0.067988</td>\n",
              "    </tr>\n",
              "    <tr>\n",
              "      <th>BoilGravity</th>\n",
              "      <td>0.002278</td>\n",
              "      <td>0.175921</td>\n",
              "      <td>0.962264</td>\n",
              "      <td>0.903288</td>\n",
              "      <td>0.024827</td>\n",
              "      <td>-0.007304</td>\n",
              "      <td>0.013122</td>\n",
              "      <td>0.175798</td>\n",
              "      <td>0.026393</td>\n",
              "      <td>1.000000</td>\n",
              "      <td>0.058193</td>\n",
              "      <td>0.045140</td>\n",
              "      <td>0.936439</td>\n",
              "      <td>0.010609</td>\n",
              "      <td>0.001854</td>\n",
              "    </tr>\n",
              "    <tr>\n",
              "      <th>Efficiency</th>\n",
              "      <td>0.021515</td>\n",
              "      <td>0.108826</td>\n",
              "      <td>0.067610</td>\n",
              "      <td>0.061173</td>\n",
              "      <td>0.047853</td>\n",
              "      <td>-0.033172</td>\n",
              "      <td>-0.017297</td>\n",
              "      <td>0.121971</td>\n",
              "      <td>0.161295</td>\n",
              "      <td>0.058193</td>\n",
              "      <td>1.000000</td>\n",
              "      <td>0.001323</td>\n",
              "      <td>0.069626</td>\n",
              "      <td>0.097442</td>\n",
              "      <td>-0.058385</td>\n",
              "    </tr>\n",
              "    <tr>\n",
              "      <th>MashThickness</th>\n",
              "      <td>0.004754</td>\n",
              "      <td>0.018220</td>\n",
              "      <td>0.042440</td>\n",
              "      <td>0.036757</td>\n",
              "      <td>-0.051918</td>\n",
              "      <td>-0.035046</td>\n",
              "      <td>-0.029688</td>\n",
              "      <td>0.016756</td>\n",
              "      <td>0.005332</td>\n",
              "      <td>0.045140</td>\n",
              "      <td>0.001323</td>\n",
              "      <td>1.000000</td>\n",
              "      <td>0.048527</td>\n",
              "      <td>-0.007496</td>\n",
              "      <td>0.005705</td>\n",
              "    </tr>\n",
              "    <tr>\n",
              "      <th>SugarScale</th>\n",
              "      <td>0.003359</td>\n",
              "      <td>0.165177</td>\n",
              "      <td>0.966978</td>\n",
              "      <td>0.879895</td>\n",
              "      <td>-0.011754</td>\n",
              "      <td>-0.014984</td>\n",
              "      <td>-0.005038</td>\n",
              "      <td>0.167185</td>\n",
              "      <td>0.027187</td>\n",
              "      <td>0.936439</td>\n",
              "      <td>0.069626</td>\n",
              "      <td>0.048527</td>\n",
              "      <td>1.000000</td>\n",
              "      <td>0.008818</td>\n",
              "      <td>-0.003541</td>\n",
              "    </tr>\n",
              "    <tr>\n",
              "      <th>PitchRate</th>\n",
              "      <td>0.054350</td>\n",
              "      <td>0.016699</td>\n",
              "      <td>0.013844</td>\n",
              "      <td>0.008677</td>\n",
              "      <td>0.089161</td>\n",
              "      <td>0.004372</td>\n",
              "      <td>0.010953</td>\n",
              "      <td>0.019651</td>\n",
              "      <td>0.138103</td>\n",
              "      <td>0.010609</td>\n",
              "      <td>0.097442</td>\n",
              "      <td>-0.007496</td>\n",
              "      <td>0.008818</td>\n",
              "      <td>1.000000</td>\n",
              "      <td>-0.225523</td>\n",
              "    </tr>\n",
              "    <tr>\n",
              "      <th>PrimaryTemp</th>\n",
              "      <td>-0.016434</td>\n",
              "      <td>0.003178</td>\n",
              "      <td>0.000424</td>\n",
              "      <td>0.003551</td>\n",
              "      <td>0.047781</td>\n",
              "      <td>0.029349</td>\n",
              "      <td>0.020996</td>\n",
              "      <td>0.002246</td>\n",
              "      <td>-0.067988</td>\n",
              "      <td>0.001854</td>\n",
              "      <td>-0.058385</td>\n",
              "      <td>0.005705</td>\n",
              "      <td>-0.003541</td>\n",
              "      <td>-0.225523</td>\n",
              "      <td>1.000000</td>\n",
              "    </tr>\n",
              "  </tbody>\n",
              "</table>\n",
              "</div>\n",
              "      <button class=\"colab-df-convert\" onclick=\"convertToInteractive('df-60493dc8-d2ec-41ef-a837-ccb88d2cb8b7')\"\n",
              "              title=\"Convert this dataframe to an interactive table.\"\n",
              "              style=\"display:none;\">\n",
              "\n",
              "  <svg xmlns=\"http://www.w3.org/2000/svg\" height=\"24px\"viewBox=\"0 0 24 24\"\n",
              "       width=\"24px\">\n",
              "    <path d=\"M0 0h24v24H0V0z\" fill=\"none\"/>\n",
              "    <path d=\"M18.56 5.44l.94 2.06.94-2.06 2.06-.94-2.06-.94-.94-2.06-.94 2.06-2.06.94zm-11 1L8.5 8.5l.94-2.06 2.06-.94-2.06-.94L8.5 2.5l-.94 2.06-2.06.94zm10 10l.94 2.06.94-2.06 2.06-.94-2.06-.94-.94-2.06-.94 2.06-2.06.94z\"/><path d=\"M17.41 7.96l-1.37-1.37c-.4-.4-.92-.59-1.43-.59-.52 0-1.04.2-1.43.59L10.3 9.45l-7.72 7.72c-.78.78-.78 2.05 0 2.83L4 21.41c.39.39.9.59 1.41.59.51 0 1.02-.2 1.41-.59l7.78-7.78 2.81-2.81c.8-.78.8-2.07 0-2.86zM5.41 20L4 18.59l7.72-7.72 1.47 1.35L5.41 20z\"/>\n",
              "  </svg>\n",
              "      </button>\n",
              "\n",
              "\n",
              "\n",
              "    <div id=\"df-5c64d72d-ac33-4860-bc8d-e464799aa27c\">\n",
              "      <button class=\"colab-df-quickchart\" onclick=\"quickchart('df-5c64d72d-ac33-4860-bc8d-e464799aa27c')\"\n",
              "              title=\"Suggest charts.\"\n",
              "              style=\"display:none;\">\n",
              "\n",
              "<svg xmlns=\"http://www.w3.org/2000/svg\" height=\"24px\"viewBox=\"0 0 24 24\"\n",
              "     width=\"24px\">\n",
              "    <g>\n",
              "        <path d=\"M19 3H5c-1.1 0-2 .9-2 2v14c0 1.1.9 2 2 2h14c1.1 0 2-.9 2-2V5c0-1.1-.9-2-2-2zM9 17H7v-7h2v7zm4 0h-2V7h2v10zm4 0h-2v-4h2v4z\"/>\n",
              "    </g>\n",
              "</svg>\n",
              "      </button>\n",
              "    </div>\n",
              "\n",
              "<style>\n",
              "  .colab-df-quickchart {\n",
              "    background-color: #E8F0FE;\n",
              "    border: none;\n",
              "    border-radius: 50%;\n",
              "    cursor: pointer;\n",
              "    display: none;\n",
              "    fill: #1967D2;\n",
              "    height: 32px;\n",
              "    padding: 0 0 0 0;\n",
              "    width: 32px;\n",
              "  }\n",
              "\n",
              "  .colab-df-quickchart:hover {\n",
              "    background-color: #E2EBFA;\n",
              "    box-shadow: 0px 1px 2px rgba(60, 64, 67, 0.3), 0px 1px 3px 1px rgba(60, 64, 67, 0.15);\n",
              "    fill: #174EA6;\n",
              "  }\n",
              "\n",
              "  [theme=dark] .colab-df-quickchart {\n",
              "    background-color: #3B4455;\n",
              "    fill: #D2E3FC;\n",
              "  }\n",
              "\n",
              "  [theme=dark] .colab-df-quickchart:hover {\n",
              "    background-color: #434B5C;\n",
              "    box-shadow: 0px 1px 3px 1px rgba(0, 0, 0, 0.15);\n",
              "    filter: drop-shadow(0px 1px 2px rgba(0, 0, 0, 0.3));\n",
              "    fill: #FFFFFF;\n",
              "  }\n",
              "</style>\n",
              "\n",
              "    <script>\n",
              "      async function quickchart(key) {\n",
              "        const containerElement = document.querySelector('#' + key);\n",
              "        const charts = await google.colab.kernel.invokeFunction(\n",
              "            'suggestCharts', [key], {});\n",
              "      }\n",
              "    </script>\n",
              "\n",
              "      <script>\n",
              "\n",
              "function displayQuickchartButton(domScope) {\n",
              "  let quickchartButtonEl =\n",
              "    domScope.querySelector('#df-5c64d72d-ac33-4860-bc8d-e464799aa27c button.colab-df-quickchart');\n",
              "  quickchartButtonEl.style.display =\n",
              "    google.colab.kernel.accessAllowed ? 'block' : 'none';\n",
              "}\n",
              "\n",
              "        displayQuickchartButton(document);\n",
              "      </script>\n",
              "      <style>\n",
              "    .colab-df-container {\n",
              "      display:flex;\n",
              "      flex-wrap:wrap;\n",
              "      gap: 12px;\n",
              "    }\n",
              "\n",
              "    .colab-df-convert {\n",
              "      background-color: #E8F0FE;\n",
              "      border: none;\n",
              "      border-radius: 50%;\n",
              "      cursor: pointer;\n",
              "      display: none;\n",
              "      fill: #1967D2;\n",
              "      height: 32px;\n",
              "      padding: 0 0 0 0;\n",
              "      width: 32px;\n",
              "    }\n",
              "\n",
              "    .colab-df-convert:hover {\n",
              "      background-color: #E2EBFA;\n",
              "      box-shadow: 0px 1px 2px rgba(60, 64, 67, 0.3), 0px 1px 3px 1px rgba(60, 64, 67, 0.15);\n",
              "      fill: #174EA6;\n",
              "    }\n",
              "\n",
              "    [theme=dark] .colab-df-convert {\n",
              "      background-color: #3B4455;\n",
              "      fill: #D2E3FC;\n",
              "    }\n",
              "\n",
              "    [theme=dark] .colab-df-convert:hover {\n",
              "      background-color: #434B5C;\n",
              "      box-shadow: 0px 1px 3px 1px rgba(0, 0, 0, 0.15);\n",
              "      filter: drop-shadow(0px 1px 2px rgba(0, 0, 0, 0.3));\n",
              "      fill: #FFFFFF;\n",
              "    }\n",
              "  </style>\n",
              "\n",
              "      <script>\n",
              "        const buttonEl =\n",
              "          document.querySelector('#df-60493dc8-d2ec-41ef-a837-ccb88d2cb8b7 button.colab-df-convert');\n",
              "        buttonEl.style.display =\n",
              "          google.colab.kernel.accessAllowed ? 'block' : 'none';\n",
              "\n",
              "        async function convertToInteractive(key) {\n",
              "          const element = document.querySelector('#df-60493dc8-d2ec-41ef-a837-ccb88d2cb8b7');\n",
              "          const dataTable =\n",
              "            await google.colab.kernel.invokeFunction('convertToInteractive',\n",
              "                                                     [key], {});\n",
              "          if (!dataTable) return;\n",
              "\n",
              "          const docLinkHtml = 'Like what you see? Visit the ' +\n",
              "            '<a target=\"_blank\" href=https://colab.research.google.com/notebooks/data_table.ipynb>data table notebook</a>'\n",
              "            + ' to learn more about interactive tables.';\n",
              "          element.innerHTML = '';\n",
              "          dataTable['output_type'] = 'display_data';\n",
              "          await google.colab.output.renderOutput(dataTable, element);\n",
              "          const docLink = document.createElement('div');\n",
              "          docLink.innerHTML = docLinkHtml;\n",
              "          element.appendChild(docLink);\n",
              "        }\n",
              "      </script>\n",
              "    </div>\n",
              "  </div>\n"
            ]
          },
          "metadata": {},
          "execution_count": 27
        }
      ]
    },
    {
      "cell_type": "code",
      "source": [
        "dadosConcatenados.drop('FG', axis = 1, inplace = True)\n",
        "dadosConcatenados.drop('BoilSize', axis = 1, inplace = True)\n",
        "dadosConcatenados.drop('BoilGravity', axis = 1, inplace = True)\n",
        "dadosConcatenados.drop('SugarScale', axis = 1, inplace = True)"
      ],
      "metadata": {
        "id": "Wf_LQ1ES5SDg"
      },
      "execution_count": 28,
      "outputs": []
    },
    {
      "cell_type": "code",
      "source": [
        "plt.figure(figsize= (10,10))\n",
        "sns.heatmap(dadosConcatenados.corr())"
      ],
      "metadata": {
        "colab": {
          "base_uri": "https://localhost:8080/",
          "height": 944
        },
        "id": "dUuljK3q59Lz",
        "outputId": "c544ff82-69be-4dcd-804a-fd5aab8ccac8"
      },
      "execution_count": 29,
      "outputs": [
        {
          "output_type": "execute_result",
          "data": {
            "text/plain": [
              "<Axes: >"
            ]
          },
          "metadata": {},
          "execution_count": 29
        },
        {
          "output_type": "display_data",
          "data": {
            "text/plain": [
              "<Figure size 1000x1000 with 2 Axes>"
            ],
            "image/png": "[encoded data removed]"
          },
          "metadata": {}
        }
      ]
    },
    {
      "cell_type": "code",
      "source": [
        "dadosConcatenados.shape"
      ],
      "metadata": {
        "colab": {
          "base_uri": "https://localhost:8080/"
        },
        "id": "SkuMyKMk6FNi",
        "outputId": "24b82319-1106-4d3b-a015-51f7119be6fd"
      },
      "execution_count": 31,
      "outputs": [
        {
          "output_type": "execute_result",
          "data": {
            "text/plain": [
              "(73861, 15)"
            ]
          },
          "metadata": {},
          "execution_count": 31
        }
      ]
    },
    {
      "cell_type": "code",
      "source": [
        "plt.boxplot(dadosConcatenados)"
      ],
      "metadata": {
        "colab": {
          "base_uri": "https://localhost:8080/",
          "height": 1000
        },
        "id": "WygSkLBj79mZ",
        "outputId": "f645359d-a3f3-4a66-9d3b-29757abdf2de"
      },
      "execution_count": 32,
      "outputs": [
        {
          "output_type": "execute_result",
          "data": {
            "text/plain": [
              "{'whiskers': [<matplotlib.lines.Line2D at 0x78fb18d91c30>,\n",
              "  <matplotlib.lines.Line2D at 0x78fb18d91ed0>,\n",
              "  <matplotlib.lines.Line2D at 0x78fb18d92ec0>,\n",
              "  <matplotlib.lines.Line2D at 0x78fb18d93160>,\n",
              "  <matplotlib.lines.Line2D at 0x78fb18dd4160>,\n",
              "  <matplotlib.lines.Line2D at 0x78fb18dd4400>,\n",
              "  <matplotlib.lines.Line2D at 0x78fb18dd4d00>,\n",
              "  <matplotlib.lines.Line2D at 0x78fb18dd4fa0>,\n",
              "  <matplotlib.lines.Line2D at 0x78fb18dd5f60>,\n",
              "  <matplotlib.lines.Line2D at 0x78fb18dd6200>,\n",
              "  <matplotlib.lines.Line2D at 0x78fb18dd71c0>,\n",
              "  <matplotlib.lines.Line2D at 0x78fb18dd7460>,\n",
              "  <matplotlib.lines.Line2D at 0x78fb18e10460>,\n",
              "  <matplotlib.lines.Line2D at 0x78fb18e10700>,\n",
              "  <matplotlib.lines.Line2D at 0x78fb18e116c0>,\n",
              "  <matplotlib.lines.Line2D at 0x78fb18e11960>,\n",
              "  <matplotlib.lines.Line2D at 0x78fb18e12920>,\n",
              "  <matplotlib.lines.Line2D at 0x78fb18e12bc0>,\n",
              "  <matplotlib.lines.Line2D at 0x78fb18e13b80>,\n",
              "  <matplotlib.lines.Line2D at 0x78fb18e13e20>,\n",
              "  <matplotlib.lines.Line2D at 0x78fb18c50e50>,\n",
              "  <matplotlib.lines.Line2D at 0x78fb18c510f0>,\n",
              "  <matplotlib.lines.Line2D at 0x78fb18c520b0>,\n",
              "  <matplotlib.lines.Line2D at 0x78fb18c52350>,\n",
              "  <matplotlib.lines.Line2D at 0x78fb18c53310>,\n",
              "  <matplotlib.lines.Line2D at 0x78fb18c535b0>,\n",
              "  <matplotlib.lines.Line2D at 0x78fb18c905b0>,\n",
              "  <matplotlib.lines.Line2D at 0x78fb18c90850>,\n",
              "  <matplotlib.lines.Line2D at 0x78fb18c91810>,\n",
              "  <matplotlib.lines.Line2D at 0x78fb18c91ab0>],\n",
              " 'caps': [<matplotlib.lines.Line2D at 0x78fb18d92170>,\n",
              "  <matplotlib.lines.Line2D at 0x78fb18d92410>,\n",
              "  <matplotlib.lines.Line2D at 0x78fb18d93400>,\n",
              "  <matplotlib.lines.Line2D at 0x78fb18d936a0>,\n",
              "  <matplotlib.lines.Line2D at 0x78fb18dd46a0>,\n",
              "  <matplotlib.lines.Line2D at 0x78fb18d52590>,\n",
              "  <matplotlib.lines.Line2D at 0x78fb18dd5240>,\n",
              "  <matplotlib.lines.Line2D at 0x78fb18dd54e0>,\n",
              "  <matplotlib.lines.Line2D at 0x78fb18dd64a0>,\n",
              "  <matplotlib.lines.Line2D at 0x78fb18dd6740>,\n",
              "  <matplotlib.lines.Line2D at 0x78fb18dd7700>,\n",
              "  <matplotlib.lines.Line2D at 0x78fb18dd79a0>,\n",
              "  <matplotlib.lines.Line2D at 0x78fb18e109a0>,\n",
              "  <matplotlib.lines.Line2D at 0x78fb18e10c40>,\n",
              "  <matplotlib.lines.Line2D at 0x78fb18e11c00>,\n",
              "  <matplotlib.lines.Line2D at 0x78fb18e11ea0>,\n",
              "  <matplotlib.lines.Line2D at 0x78fb18e12e60>,\n",
              "  <matplotlib.lines.Line2D at 0x78fb18e13100>,\n",
              "  <matplotlib.lines.Line2D at 0x78fb18c50100>,\n",
              "  <matplotlib.lines.Line2D at 0x78fb18c503a0>,\n",
              "  <matplotlib.lines.Line2D at 0x78fb18c51390>,\n",
              "  <matplotlib.lines.Line2D at 0x78fb18c51630>,\n",
              "  <matplotlib.lines.Line2D at 0x78fb18c525f0>,\n",
              "  <matplotlib.lines.Line2D at 0x78fb18c52890>,\n",
              "  <matplotlib.lines.Line2D at 0x78fb18c53850>,\n",
              "  <matplotlib.lines.Line2D at 0x78fb18c53af0>,\n",
              "  <matplotlib.lines.Line2D at 0x78fb18c90af0>,\n",
              "  <matplotlib.lines.Line2D at 0x78fb18c90d90>,\n",
              "  <matplotlib.lines.Line2D at 0x78fb18c91d50>,\n",
              "  <matplotlib.lines.Line2D at 0x78fb18c91ff0>],\n",
              " 'boxes': [<matplotlib.lines.Line2D at 0x78fb18d91990>,\n",
              "  <matplotlib.lines.Line2D at 0x78fb18d92c20>,\n",
              "  <matplotlib.lines.Line2D at 0x78fb18d93e80>,\n",
              "  <matplotlib.lines.Line2D at 0x78fb18dd4a60>,\n",
              "  <matplotlib.lines.Line2D at 0x78fb18dd5cc0>,\n",
              "  <matplotlib.lines.Line2D at 0x78fb18dd6f20>,\n",
              "  <matplotlib.lines.Line2D at 0x78fb18e101c0>,\n",
              "  <matplotlib.lines.Line2D at 0x78fb18e11420>,\n",
              "  <matplotlib.lines.Line2D at 0x78fb18e12680>,\n",
              "  <matplotlib.lines.Line2D at 0x78fb18e138e0>,\n",
              "  <matplotlib.lines.Line2D at 0x78fb18c50bb0>,\n",
              "  <matplotlib.lines.Line2D at 0x78fb18c51e10>,\n",
              "  <matplotlib.lines.Line2D at 0x78fb18c53070>,\n",
              "  <matplotlib.lines.Line2D at 0x78fb18c90310>,\n",
              "  <matplotlib.lines.Line2D at 0x78fb18c91570>],\n",
              " 'medians': [<matplotlib.lines.Line2D at 0x78fb18d926b0>,\n",
              "  <matplotlib.lines.Line2D at 0x78fb18d93940>,\n",
              "  <matplotlib.lines.Line2D at 0x78fb196f9930>,\n",
              "  <matplotlib.lines.Line2D at 0x78fb18dd5780>,\n",
              "  <matplotlib.lines.Line2D at 0x78fb18dd69e0>,\n",
              "  <matplotlib.lines.Line2D at 0x78fb18dd7c40>,\n",
              "  <matplotlib.lines.Line2D at 0x78fb18e10ee0>,\n",
              "  <matplotlib.lines.Line2D at 0x78fb18e12140>,\n",
              "  <matplotlib.lines.Line2D at 0x78fb18e133a0>,\n",
              "  <matplotlib.lines.Line2D at 0x78fb18c50640>,\n",
              "  <matplotlib.lines.Line2D at 0x78fb18c518d0>,\n",
              "  <matplotlib.lines.Line2D at 0x78fb18c52b30>,\n",
              "  <matplotlib.lines.Line2D at 0x78fb18c53d90>,\n",
              "  <matplotlib.lines.Line2D at 0x78fb18c91030>,\n",
              "  <matplotlib.lines.Line2D at 0x78fb18c92290>],\n",
              " 'fliers': [<matplotlib.lines.Line2D at 0x78fb18d92950>,\n",
              "  <matplotlib.lines.Line2D at 0x78fb18d93be0>,\n",
              "  <matplotlib.lines.Line2D at 0x78fb18dd47c0>,\n",
              "  <matplotlib.lines.Line2D at 0x78fb18dd5a20>,\n",
              "  <matplotlib.lines.Line2D at 0x78fb18dd6c80>,\n",
              "  <matplotlib.lines.Line2D at 0x78fb18dd7ee0>,\n",
              "  <matplotlib.lines.Line2D at 0x78fb18e11180>,\n",
              "  <matplotlib.lines.Line2D at 0x78fb18e123e0>,\n",
              "  <matplotlib.lines.Line2D at 0x78fb18e13640>,\n",
              "  <matplotlib.lines.Line2D at 0x78fb18c50910>,\n",
              "  <matplotlib.lines.Line2D at 0x78fb18c51b70>,\n",
              "  <matplotlib.lines.Line2D at 0x78fb18c52dd0>,\n",
              "  <matplotlib.lines.Line2D at 0x78fb18c90070>,\n",
              "  <matplotlib.lines.Line2D at 0x78fb18c912d0>,\n",
              "  <matplotlib.lines.Line2D at 0x78fb18c92530>],\n",
              " 'means': []}"
            ]
          },
          "metadata": {},
          "execution_count": 32
        },
        {
          "output_type": "display_data",
          "data": {
            "text/plain": [
              "<Figure size 640x480 with 1 Axes>"
            ],
            "image/png": "[encoded data removed]"
          },
          "metadata": {}
        }
      ]
    },
    {
      "cell_type": "code",
      "source": [
        "dadosConcatenados.shape"
      ],
      "metadata": {
        "colab": {
          "base_uri": "https://localhost:8080/"
        },
        "id": "dqs2rZYFAR0P",
        "outputId": "c9297419-add4-423a-bebc-a4d6c8dff594"
      },
      "execution_count": 33,
      "outputs": [
        {
          "output_type": "execute_result",
          "data": {
            "text/plain": [
              "(73861, 15)"
            ]
          },
          "metadata": {},
          "execution_count": 33
        }
      ]
    },
    {
      "cell_type": "code",
      "source": [
        "for i, valor in enumerate(dadosConcatenados['Size(L)']):\n",
        "  if(valor>6000):\n",
        "    print(i)\n",
        "    print(valor)\n",
        "    dadosConcatenados.drop(dadosConcatenados['StyleID'][i], axis= 0, inplace= True)"
      ],
      "metadata": {
        "colab": {
          "base_uri": "https://localhost:8080/"
        },
        "id": "feS_2mw28LHP",
        "outputId": "a482f531-35e6-49fa-bbab-15ccf8be4f05"
      },
      "execution_count": 34,
      "outputs": [
        {
          "output_type": "stream",
          "name": "stdout",
          "text": [
            "11014\n",
            "7476.19\n",
            "32113\n",
            "7800.0\n",
            "51091\n",
            "9200.0\n",
            "58088\n",
            "6102.08\n",
            "59014\n",
            "6102.08\n"
          ]
        }
      ]
    },
    {
      "cell_type": "code",
      "source": [
        "for i, valor in enumerate(dadosConcatenados['IBU']):\n",
        "  if(valor>2000):\n",
        "    print(i)\n",
        "    print(valor)\n",
        "    dadosConcatenados.drop(dadosConcatenados['StyleID'][i], axis= 0, inplace= True)"
      ],
      "metadata": {
        "colab": {
          "base_uri": "https://localhost:8080/"
        },
        "id": "WIZKVISY-j4F",
        "outputId": "aa9d38c1-ac36-4cc3-e5b0-12a1aa647fd3"
      },
      "execution_count": 35,
      "outputs": [
        {
          "output_type": "stream",
          "name": "stdout",
          "text": [
            "3372\n",
            "2197.07\n",
            "5209\n",
            "2673.83\n",
            "48521\n",
            "3409.3\n",
            "72527\n",
            "2881.42\n"
          ]
        }
      ]
    },
    {
      "cell_type": "code",
      "source": [
        "for i in range(dadosConcatenados['StyleID'].min(),(dadosConcatenados['StyleID'].max()+1)):\n",
        "  if(dadosConcatenados['StyleID'].value_counts()[i]<=1000):\n",
        "    dadosConcatenados['StyleID'].replace(i, None, inplace= True)"
      ],
      "metadata": {
        "id": "lAtJIARfGuzr"
      },
      "execution_count": 36,
      "outputs": []
    },
    {
      "cell_type": "code",
      "source": [
        "dadosConcatenados['StyleID'].isnull().sum()"
      ],
      "metadata": {
        "colab": {
          "base_uri": "https://localhost:8080/"
        },
        "id": "9A2iv3mGQ4m7",
        "outputId": "aa14951f-0bde-4604-f5f5-69cdf8239010"
      },
      "execution_count": 37,
      "outputs": [
        {
          "output_type": "execute_result",
          "data": {
            "text/plain": [
              "38433"
            ]
          },
          "metadata": {},
          "execution_count": 37
        }
      ]
    },
    {
      "cell_type": "code",
      "source": [
        "dadosConcatenados.dropna( axis = 0, inplace= True)"
      ],
      "metadata": {
        "id": "fN8rJVPhSW9L"
      },
      "execution_count": 47,
      "outputs": []
    },
    {
      "cell_type": "code",
      "source": [
        "x = dadosConcatenados.drop('StyleID', axis=1)\n",
        "y = dadosConcatenados['StyleID']\n",
        "y.shape, x.shape"
      ],
      "metadata": {
        "id": "vMCLAw7v6MIU",
        "colab": {
          "base_uri": "https://localhost:8080/"
        },
        "outputId": "ef0a9ae9-12d6-4ad1-9010-45b43394ea92"
      },
      "execution_count": 51,
      "outputs": [
        {
          "output_type": "execute_result",
          "data": {
            "text/plain": [
              "((35419,), (35419, 14))"
            ]
          },
          "metadata": {},
          "execution_count": 51
        }
      ]
    },
    {
      "cell_type": "code",
      "source": [
        "def MelhorModelo(x,y):\n",
        "  def TestandoModelos(modelo, x,y):\n",
        "    SKFold = StratifiedKFold()\n",
        "    val = cross_val_score(modelo,x,y, cv=SKFold)\n",
        "    return val.mean()\n",
        "\n",
        "  MGaussean = GaussianNB()\n",
        "  Tree = DecisionTreeClassifier()\n",
        "  Dummy = DummyClassifier()\n",
        "\n",
        "  Gaussean_result = TestandoModelos(MGaussean,x,y)\n",
        "  Tree_result = TestandoModelos(Tree,x,y)\n",
        "  Dummy_result = TestandoModelos(Dummy,x,y)\n",
        "\n",
        "  #transformando padroes para rodar O KNN\n",
        "  norm = MinMaxScaler((0,1))\n",
        "  x_norm= norm.fit_transform(x)\n",
        "  KN = KNeighborsClassifier()\n",
        "\n",
        "  KN_result= TestandoModelos(KN,x_norm, y)\n",
        "\n",
        "  valores = {'Gaussean': Gaussean_result,\n",
        "             'Arvore de Decissao': Tree_result, 'KNN': KN_result,\n",
        "             'Dummy': Dummy_result}\n",
        "  return valores"
      ],
      "metadata": {
        "id": "qnNfnzAf6mWK"
      },
      "execution_count": 61,
      "outputs": []
    },
    {
      "cell_type": "code",
      "source": [
        "MelhorModelo(x,y)"
      ],
      "metadata": {
        "colab": {
          "base_uri": "https://localhost:8080/"
        },
        "id": "p-IdS5tuygd2",
        "outputId": "1ab2404c-deb3-4d27-8c1d-4eb02b45532f"
      },
      "execution_count": 62,
      "outputs": [
        {
          "output_type": "execute_result",
          "data": {
            "text/plain": [
              "{'Gaussean': 0.4566474805909091,\n",
              " 'Arvore de Decissao': 0.4791211857340801,\n",
              " 'KNN': 0.4866878313787324,\n",
              " 'Dummy': 0.337022501527225}"
            ]
          },
          "metadata": {},
          "execution_count": 62
        }
      ]
    },
    {
      "cell_type": "code",
      "source": [
        "features = SelectKBest(k = 13)\n",
        "features.fit(x,y).scores_"
      ],
      "metadata": {
        "colab": {
          "base_uri": "https://localhost:8080/"
        },
        "id": "xBwiiI7HyjDL",
        "outputId": "d9914fe4-e3e9-410a-e66d-24fb2644fc16"
      },
      "execution_count": 75,
      "outputs": [
        {
          "output_type": "execute_result",
          "data": {
            "text/plain": [
              "array([8.64131842e+00, 2.32446910e+00, 8.78156002e+02, 1.09789423e+03,\n",
              "       4.40303962e+03, 9.63896134e+01, 1.13454502e+01, 1.19023118e+01,\n",
              "       5.19735353e+01, 1.21030537e+02, 3.27525579e+00, 8.47620048e+00,\n",
              "       2.36060721e+00, 1.00470612e+01])"
            ]
          },
          "metadata": {},
          "execution_count": 75
        }
      ]
    },
    {
      "cell_type": "code",
      "source": [
        "norm = MinMaxScaler((0,1))\n",
        "x_norm= norm.fit_transform(x)"
      ],
      "metadata": {
        "id": "CWFXzCXn6_qI"
      },
      "execution_count": 77,
      "outputs": []
    },
    {
      "cell_type": "code",
      "source": [
        "n_neighbors = [3,5,7]\n",
        "p = [2,3,4,5,6]\n",
        "metric = ['cityblock', 'cosine', 'euclidean', 'haversine','l1','l2','manhattan','nan_euclidean']\n",
        "n_neighbors = [7,9,11,13]\n",
        "n_neighbors = [19,21,23]\n",
        "valores = {'n_neighbors':n_neighbors}"
      ],
      "metadata": {
        "id": "KESGTDYF4_dF"
      },
      "execution_count": 101,
      "outputs": []
    },
    {
      "cell_type": "code",
      "source": [
        "weights = ['uniform','distance','callable', None]\n",
        "algorithm = ['auto','ball_tree','kd_tree','brute']\n",
        "valores = {'weights':weights,'algorithm':algorithm}"
      ],
      "metadata": {
        "id": "cHtx-nE4W2-a"
      },
      "execution_count": 103,
      "outputs": []
    },
    {
      "cell_type": "code",
      "source": [
        "Modelo = KNeighborsClassifier(n_neighbors=21, p = 2, metric= 'cityblock',\n",
        "                              weights= 'distance', algorithm='auto', n_jobs=-1)\n",
        "MelhoresParametros = GridSearchCV(Modelo,valores,cv=5)\n",
        "MelhoresParametros.fit(x_norm,y)"
      ],
      "metadata": {
        "colab": {
          "base_uri": "https://localhost:8080/",
          "height": 534
        },
        "id": "IY05Yzz822ph",
        "outputId": "091c82d6-5090-40a2-bc8a-d05690b055a9"
      },
      "execution_count": 104,
      "outputs": [
        {
          "output_type": "stream",
          "name": "stderr",
          "text": [
            "/usr/local/lib/python3.10/dist-packages/sklearn/model_selection/_validation.py:378: FitFailedWarning: \n",
            "20 fits failed out of a total of 80.\n",
            "The score on these train-test partitions for these parameters will be set to nan.\n",
            "If these failures are not expected, you can try to debug them by setting error_score='raise'.\n",
            "\n",
            "Below are more details about the failures:\n",
            "--------------------------------------------------------------------------------\n",
            "20 fits failed with the following error:\n",
            "Traceback (most recent call last):\n",
            "  File \"/usr/local/lib/python3.10/dist-packages/sklearn/model_selection/_validation.py\", line 686, in _fit_and_score\n",
            "    estimator.fit(X_train, y_train, **fit_params)\n",
            "  File \"/usr/local/lib/python3.10/dist-packages/sklearn/neighbors/_classification.py\", line 213, in fit\n",
            "    self._validate_params()\n",
            "  File \"/usr/local/lib/python3.10/dist-packages/sklearn/base.py\", line 600, in _validate_params\n",
            "    validate_parameter_constraints(\n",
            "  File \"/usr/local/lib/python3.10/dist-packages/sklearn/utils/_param_validation.py\", line 97, in validate_parameter_constraints\n",
            "    raise InvalidParameterError(\n",
            "sklearn.utils._param_validation.InvalidParameterError: The 'weights' parameter of KNeighborsClassifier must be a str among {'distance', 'uniform'}, a callable or None. Got 'callable' instead.\n",
            "\n",
            "  warnings.warn(some_fits_failed_message, FitFailedWarning)\n",
            "/usr/local/lib/python3.10/dist-packages/sklearn/model_selection/_search.py:952: UserWarning: One or more of the test scores are non-finite: [0.52680754 0.53965361        nan 0.52680754 0.52680754 0.53965361\n",
            "        nan 0.52680754 0.52680754 0.53965361        nan 0.52680754\n",
            " 0.52680754 0.53965361        nan 0.52680754]\n",
            "  warnings.warn(\n"
          ]
        },
        {
          "output_type": "execute_result",
          "data": {
            "text/plain": [
              "GridSearchCV(cv=5,\n",
              "             estimator=KNeighborsClassifier(metric='cityblock', n_jobs=-1,\n",
              "                                            n_neighbors=21),\n",
              "             param_grid={'algorithm': ['auto', 'ball_tree', 'kd_tree', 'brute'],\n",
              "                         'weights': ['uniform', 'distance', 'callable', None]})"
            ],
            "text/html": [
              "<style>#sk-container-id-7 {color: black;background-color: white;}#sk-container-id-7 pre{padding: 0;}#sk-container-id-7 div.sk-toggleable {background-color: white;}#sk-container-id-7 label.sk-toggleable__label {cursor: pointer;display: block;width: 100%;margin-bottom: 0;padding: 0.3em;box-sizing: border-box;text-align: center;}#sk-container-id-7 label.sk-toggleable__label-arrow:before {content: \"▸\";float: left;margin-right: 0.25em;color: #696969;}#sk-container-id-7 label.sk-toggleable__label-arrow:hover:before {color: black;}#sk-container-id-7 div.sk-estimator:hover label.sk-toggleable__label-arrow:before {color: black;}#sk-container-id-7 div.sk-toggleable__content {max-height: 0;max-width: 0;overflow: hidden;text-align: left;background-color: #f0f8ff;}#sk-container-id-7 div.sk-toggleable__content pre {margin: 0.2em;color: black;border-radius: 0.25em;background-color: #f0f8ff;}#sk-container-id-7 input.sk-toggleable__control:checked~div.sk-toggleable__content {max-height: 200px;max-width: 100%;overflow: auto;}#sk-container-id-7 input.sk-toggleable__control:checked~label.sk-toggleable__label-arrow:before {content: \"▾\";}#sk-container-id-7 div.sk-estimator input.sk-toggleable__control:checked~label.sk-toggleable__label {background-color: #d4ebff;}#sk-container-id-7 div.sk-label input.sk-toggleable__control:checked~label.sk-toggleable__label {background-color: #d4ebff;}#sk-container-id-7 input.sk-hidden--visually {border: 0;clip: rect(1px 1px 1px 1px);clip: rect(1px, 1px, 1px, 1px);height: 1px;margin: -1px;overflow: hidden;padding: 0;position: absolute;width: 1px;}#sk-container-id-7 div.sk-estimator {font-family: monospace;background-color: #f0f8ff;border: 1px dotted black;border-radius: 0.25em;box-sizing: border-box;margin-bottom: 0.5em;}#sk-container-id-7 div.sk-estimator:hover {background-color: #d4ebff;}#sk-container-id-7 div.sk-parallel-item::after {content: \"\";width: 100%;border-bottom: 1px solid gray;flex-grow: 1;}#sk-container-id-7 div.sk-label:hover label.sk-toggleable__label {background-color: #d4ebff;}#sk-container-id-7 div.sk-serial::before {content: \"\";position: absolute;border-left: 1px solid gray;box-sizing: border-box;top: 0;bottom: 0;left: 50%;z-index: 0;}#sk-container-id-7 div.sk-serial {display: flex;flex-direction: column;align-items: center;background-color: white;padding-right: 0.2em;padding-left: 0.2em;position: relative;}#sk-container-id-7 div.sk-item {position: relative;z-index: 1;}#sk-container-id-7 div.sk-parallel {display: flex;align-items: stretch;justify-content: center;background-color: white;position: relative;}#sk-container-id-7 div.sk-item::before, #sk-container-id-7 div.sk-parallel-item::before {content: \"\";position: absolute;border-left: 1px solid gray;box-sizing: border-box;top: 0;bottom: 0;left: 50%;z-index: -1;}#sk-container-id-7 div.sk-parallel-item {display: flex;flex-direction: column;z-index: 1;position: relative;background-color: white;}#sk-container-id-7 div.sk-parallel-item:first-child::after {align-self: flex-end;width: 50%;}#sk-container-id-7 div.sk-parallel-item:last-child::after {align-self: flex-start;width: 50%;}#sk-container-id-7 div.sk-parallel-item:only-child::after {width: 0;}#sk-container-id-7 div.sk-dashed-wrapped {border: 1px dashed gray;margin: 0 0.4em 0.5em 0.4em;box-sizing: border-box;padding-bottom: 0.4em;background-color: white;}#sk-container-id-7 div.sk-label label {font-family: monospace;font-weight: bold;display: inline-block;line-height: 1.2em;}#sk-container-id-7 div.sk-label-container {text-align: center;}#sk-container-id-7 div.sk-container {/* jupyter's `normalize.less` sets `[hidden] { display: none; }` but bootstrap.min.css set `[hidden] { display: none !important; }` so we also need the `!important` here to be able to override the default hidden behavior on the sphinx rendered scikit-learn.org. See: https://github.com/scikit-learn/scikit-learn/issues/21755 */display: inline-block !important;position: relative;}#sk-container-id-7 div.sk-text-repr-fallback {display: none;}</style><div id=\"sk-container-id-7\" class=\"sk-top-container\"><div class=\"sk-text-repr-fallback\"><pre>GridSearchCV(cv=5,\n",
              "             estimator=KNeighborsClassifier(metric=&#x27;cityblock&#x27;, n_jobs=-1,\n",
              "                                            n_neighbors=21),\n",
              "             param_grid={&#x27;algorithm&#x27;: [&#x27;auto&#x27;, &#x27;ball_tree&#x27;, &#x27;kd_tree&#x27;, &#x27;brute&#x27;],\n",
              "                         &#x27;weights&#x27;: [&#x27;uniform&#x27;, &#x27;distance&#x27;, &#x27;callable&#x27;, None]})</pre><b>In a Jupyter environment, please rerun this cell to show the HTML representation or trust the notebook. <br />On GitHub, the HTML representation is unable to render, please try loading this page with nbviewer.org.</b></div><div class=\"sk-container\" hidden><div class=\"sk-item sk-dashed-wrapped\"><div class=\"sk-label-container\"><div class=\"sk-label sk-toggleable\"><input class=\"sk-toggleable__control sk-hidden--visually\" id=\"sk-estimator-id-15\" type=\"checkbox\" ><label for=\"sk-estimator-id-15\" class=\"sk-toggleable__label sk-toggleable__label-arrow\">GridSearchCV</label><div class=\"sk-toggleable__content\"><pre>GridSearchCV(cv=5,\n",
              "             estimator=KNeighborsClassifier(metric=&#x27;cityblock&#x27;, n_jobs=-1,\n",
              "                                            n_neighbors=21),\n",
              "             param_grid={&#x27;algorithm&#x27;: [&#x27;auto&#x27;, &#x27;ball_tree&#x27;, &#x27;kd_tree&#x27;, &#x27;brute&#x27;],\n",
              "                         &#x27;weights&#x27;: [&#x27;uniform&#x27;, &#x27;distance&#x27;, &#x27;callable&#x27;, None]})</pre></div></div></div><div class=\"sk-parallel\"><div class=\"sk-parallel-item\"><div class=\"sk-item\"><div class=\"sk-label-container\"><div class=\"sk-label sk-toggleable\"><input class=\"sk-toggleable__control sk-hidden--visually\" id=\"sk-estimator-id-16\" type=\"checkbox\" ><label for=\"sk-estimator-id-16\" class=\"sk-toggleable__label sk-toggleable__label-arrow\">estimator: KNeighborsClassifier</label><div class=\"sk-toggleable__content\"><pre>KNeighborsClassifier(metric=&#x27;cityblock&#x27;, n_jobs=-1, n_neighbors=21)</pre></div></div></div><div class=\"sk-serial\"><div class=\"sk-item\"><div class=\"sk-estimator sk-toggleable\"><input class=\"sk-toggleable__control sk-hidden--visually\" id=\"sk-estimator-id-17\" type=\"checkbox\" ><label for=\"sk-estimator-id-17\" class=\"sk-toggleable__label sk-toggleable__label-arrow\">KNeighborsClassifier</label><div class=\"sk-toggleable__content\"><pre>KNeighborsClassifier(metric=&#x27;cityblock&#x27;, n_jobs=-1, n_neighbors=21)</pre></div></div></div></div></div></div></div></div></div></div>"
            ]
          },
          "metadata": {},
          "execution_count": 104
        }
      ]
    },
    {
      "cell_type": "code",
      "source": [
        "print(MelhoresParametros.best_score_)\n",
        "print(MelhoresParametros.best_estimator_.weights)\n",
        "print(MelhoresParametros.best_estimator_.algorithm)"
      ],
      "metadata": {
        "colab": {
          "base_uri": "https://localhost:8080/"
        },
        "id": "8mtLXeDf7Eaa",
        "outputId": "1682f2df-9a29-412a-8da1-0edd5b6b8df2"
      },
      "execution_count": 105,
      "outputs": [
        {
          "output_type": "stream",
          "name": "stdout",
          "text": [
            "0.5396536095005794\n",
            "distance\n",
            "auto\n"
          ]
        }
      ]
    },
    {
      "cell_type": "code",
      "source": [
        "Modelo = KNeighborsClassifier(n_neighbors=21, p = 2, metric= 'cityblock',\n",
        "                              weights= 'distance', algorithm='auto', n_jobs=-1)\n",
        "x_teste,x_treino,y_teste,y_treino = train_test_split(x_norm, y, test_size= 0.3,\n",
        "                                                    random_state=1)\n",
        "Modelo.fit(x_treino,y_treino)"
      ],
      "metadata": {
        "colab": {
          "base_uri": "https://localhost:8080/",
          "height": 92
        },
        "id": "fKdArnFQF-ro",
        "outputId": "92d7f8e4-3efc-4a72-adf9-b088be5287c5"
      },
      "execution_count": 123,
      "outputs": [
        {
          "output_type": "execute_result",
          "data": {
            "text/plain": [
              "KNeighborsClassifier(metric='cityblock', n_jobs=-1, n_neighbors=21,\n",
              "                     weights='distance')"
            ],
            "text/html": [
              "<style>#sk-container-id-9 {color: black;background-color: white;}#sk-container-id-9 pre{padding: 0;}#sk-container-id-9 div.sk-toggleable {background-color: white;}#sk-container-id-9 label.sk-toggleable__label {cursor: pointer;display: block;width: 100%;margin-bottom: 0;padding: 0.3em;box-sizing: border-box;text-align: center;}#sk-container-id-9 label.sk-toggleable__label-arrow:before {content: \"▸\";float: left;margin-right: 0.25em;color: #696969;}#sk-container-id-9 label.sk-toggleable__label-arrow:hover:before {color: black;}#sk-container-id-9 div.sk-estimator:hover label.sk-toggleable__label-arrow:before {color: black;}#sk-container-id-9 div.sk-toggleable__content {max-height: 0;max-width: 0;overflow: hidden;text-align: left;background-color: #f0f8ff;}#sk-container-id-9 div.sk-toggleable__content pre {margin: 0.2em;color: black;border-radius: 0.25em;background-color: #f0f8ff;}#sk-container-id-9 input.sk-toggleable__control:checked~div.sk-toggleable__content {max-height: 200px;max-width: 100%;overflow: auto;}#sk-container-id-9 input.sk-toggleable__control:checked~label.sk-toggleable__label-arrow:before {content: \"▾\";}#sk-container-id-9 div.sk-estimator input.sk-toggleable__control:checked~label.sk-toggleable__label {background-color: #d4ebff;}#sk-container-id-9 div.sk-label input.sk-toggleable__control:checked~label.sk-toggleable__label {background-color: #d4ebff;}#sk-container-id-9 input.sk-hidden--visually {border: 0;clip: rect(1px 1px 1px 1px);clip: rect(1px, 1px, 1px, 1px);height: 1px;margin: -1px;overflow: hidden;padding: 0;position: absolute;width: 1px;}#sk-container-id-9 div.sk-estimator {font-family: monospace;background-color: #f0f8ff;border: 1px dotted black;border-radius: 0.25em;box-sizing: border-box;margin-bottom: 0.5em;}#sk-container-id-9 div.sk-estimator:hover {background-color: #d4ebff;}#sk-container-id-9 div.sk-parallel-item::after {content: \"\";width: 100%;border-bottom: 1px solid gray;flex-grow: 1;}#sk-container-id-9 div.sk-label:hover label.sk-toggleable__label {background-color: #d4ebff;}#sk-container-id-9 div.sk-serial::before {content: \"\";position: absolute;border-left: 1px solid gray;box-sizing: border-box;top: 0;bottom: 0;left: 50%;z-index: 0;}#sk-container-id-9 div.sk-serial {display: flex;flex-direction: column;align-items: center;background-color: white;padding-right: 0.2em;padding-left: 0.2em;position: relative;}#sk-container-id-9 div.sk-item {position: relative;z-index: 1;}#sk-container-id-9 div.sk-parallel {display: flex;align-items: stretch;justify-content: center;background-color: white;position: relative;}#sk-container-id-9 div.sk-item::before, #sk-container-id-9 div.sk-parallel-item::before {content: \"\";position: absolute;border-left: 1px solid gray;box-sizing: border-box;top: 0;bottom: 0;left: 50%;z-index: -1;}#sk-container-id-9 div.sk-parallel-item {display: flex;flex-direction: column;z-index: 1;position: relative;background-color: white;}#sk-container-id-9 div.sk-parallel-item:first-child::after {align-self: flex-end;width: 50%;}#sk-container-id-9 div.sk-parallel-item:last-child::after {align-self: flex-start;width: 50%;}#sk-container-id-9 div.sk-parallel-item:only-child::after {width: 0;}#sk-container-id-9 div.sk-dashed-wrapped {border: 1px dashed gray;margin: 0 0.4em 0.5em 0.4em;box-sizing: border-box;padding-bottom: 0.4em;background-color: white;}#sk-container-id-9 div.sk-label label {font-family: monospace;font-weight: bold;display: inline-block;line-height: 1.2em;}#sk-container-id-9 div.sk-label-container {text-align: center;}#sk-container-id-9 div.sk-container {/* jupyter's `normalize.less` sets `[hidden] { display: none; }` but bootstrap.min.css set `[hidden] { display: none !important; }` so we also need the `!important` here to be able to override the default hidden behavior on the sphinx rendered scikit-learn.org. See: https://github.com/scikit-learn/scikit-learn/issues/21755 */display: inline-block !important;position: relative;}#sk-container-id-9 div.sk-text-repr-fallback {display: none;}</style><div id=\"sk-container-id-9\" class=\"sk-top-container\"><div class=\"sk-text-repr-fallback\"><pre>KNeighborsClassifier(metric=&#x27;cityblock&#x27;, n_jobs=-1, n_neighbors=21,\n",
              "                     weights=&#x27;distance&#x27;)</pre><b>In a Jupyter environment, please rerun this cell to show the HTML representation or trust the notebook. <br />On GitHub, the HTML representation is unable to render, please try loading this page with nbviewer.org.</b></div><div class=\"sk-container\" hidden><div class=\"sk-item\"><div class=\"sk-estimator sk-toggleable\"><input class=\"sk-toggleable__control sk-hidden--visually\" id=\"sk-estimator-id-19\" type=\"checkbox\" checked><label for=\"sk-estimator-id-19\" class=\"sk-toggleable__label sk-toggleable__label-arrow\">KNeighborsClassifier</label><div class=\"sk-toggleable__content\"><pre>KNeighborsClassifier(metric=&#x27;cityblock&#x27;, n_jobs=-1, n_neighbors=21,\n",
              "                     weights=&#x27;distance&#x27;)</pre></div></div></div></div></div>"
            ]
          },
          "metadata": {},
          "execution_count": 123
        }
      ]
    },
    {
      "cell_type": "code",
      "source": [
        "Modelo.score(x_teste,y_teste)"
      ],
      "metadata": {
        "colab": {
          "base_uri": "https://localhost:8080/"
        },
        "id": "4jqkWN5tbaVn",
        "outputId": "58c2082b-7e6b-4a57-f097-d6839fd1ea3f"
      },
      "execution_count": 124,
      "outputs": [
        {
          "output_type": "execute_result",
          "data": {
            "text/plain": [
              "0.5120396886217884"
            ]
          },
          "metadata": {},
          "execution_count": 124
        }
      ]
    },
    {
      "cell_type": "code",
      "source": [],
      "metadata": {
        "id": "uj1doD1nb4s8"
      },
      "execution_count": null,
      "outputs": []
    }
  ]
}