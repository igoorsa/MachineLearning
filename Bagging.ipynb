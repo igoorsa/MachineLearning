{
  "nbformat": 4,
  "nbformat_minor": 0,
  "metadata": {
    "colab": {
      "provenance": [],
      "authorship_tag": "ABX9TyP14lUj3TVXokwebIhE3ulE",
      "include_colab_link": true
    },
    "kernelspec": {
      "name": "python3",
      "display_name": "Python 3"
    },
    "language_info": {
      "name": "python"
    }
  },
  "cells": [
    {
      "cell_type": "markdown",
      "metadata": {
        "id": "view-in-github",
        "colab_type": "text"
      },
      "source": [
        "<a href=\"https://colab.research.google.com/github/igoorsa/MachineLearning/blob/main/Bagging.ipynb\" target=\"_parent\"><img src=\"https://colab.research.google.com/assets/colab-badge.svg\" alt=\"Open In Colab\"/></a>"
      ]
    },
    {
      "cell_type": "code",
      "execution_count": 39,
      "metadata": {
        "id": "Qgn7JDuiVivB"
      },
      "outputs": [],
      "source": [
        "import pandas as pd\n",
        "import numpy as np\n",
        "import matplotlib.pyplot as plt\n",
        "\n",
        "from sklearn.ensemble import BaggingRegressor\n",
        "\n",
        "from sklearn.linear_model import LinearRegression\n",
        "from sklearn.linear_model import Lasso\n",
        "from sklearn.linear_model import Ridge\n",
        "\n",
        "\n",
        "from sklearn.preprocessing import MinMaxScaler\n",
        "from sklearn.neighbors import KNeighborsRegressor\n",
        "\n",
        "from sklearn.model_selection import KFold\n",
        "from sklearn.model_selection import cross_val_score\n",
        "\n",
        "from sklearn.model_selection import GridSearchCV"
      ]
    },
    {
      "cell_type": "code",
      "source": [
        "names = ['Coment', 'Blast','Fly','Water', 'Superplasticizer','Coarse','Fine','Age','Concrete']"
      ],
      "metadata": {
        "id": "a7wA9lrXZRqV"
      },
      "execution_count": 20,
      "outputs": []
    },
    {
      "cell_type": "code",
      "source": [
        "dados = pd.read_excel('/content/Concrete_Data.xls', names = names)\n",
        "dados.head()"
      ],
      "metadata": {
        "colab": {
          "base_uri": "https://localhost:8080/",
          "height": 206
        },
        "id": "bSqq2Py1V1aX",
        "outputId": "350fa512-8f6d-4b22-bd4c-22b1cfa61d56"
      },
      "execution_count": 22,
      "outputs": [
        {
          "output_type": "execute_result",
          "data": {
            "text/plain": [
              "   Coment  Blast  Fly  Water  Superplasticizer  Coarse   Fine  Age   Concrete\n",
              "0   540.0    0.0  0.0  162.0               2.5  1040.0  676.0   28  79.986111\n",
              "1   540.0    0.0  0.0  162.0               2.5  1055.0  676.0   28  61.887366\n",
              "2   332.5  142.5  0.0  228.0               0.0   932.0  594.0  270  40.269535\n",
              "3   332.5  142.5  0.0  228.0               0.0   932.0  594.0  365  41.052780\n",
              "4   198.6  132.4  0.0  192.0               0.0   978.4  825.5  360  44.296075"
            ],
            "text/html": [
              "\n",
              "\n",
              "  <div id=\"df-12262591-d5d9-4a9b-9ed0-a94e1e7faed9\">\n",
              "    <div class=\"colab-df-container\">\n",
              "      <div>\n",
              "<style scoped>\n",
              "    .dataframe tbody tr th:only-of-type {\n",
              "        vertical-align: middle;\n",
              "    }\n",
              "\n",
              "    .dataframe tbody tr th {\n",
              "        vertical-align: top;\n",
              "    }\n",
              "\n",
              "    .dataframe thead th {\n",
              "        text-align: right;\n",
              "    }\n",
              "</style>\n",
              "<table border=\"1\" class=\"dataframe\">\n",
              "  <thead>\n",
              "    <tr style=\"text-align: right;\">\n",
              "      <th></th>\n",
              "      <th>Coment</th>\n",
              "      <th>Blast</th>\n",
              "      <th>Fly</th>\n",
              "      <th>Water</th>\n",
              "      <th>Superplasticizer</th>\n",
              "      <th>Coarse</th>\n",
              "      <th>Fine</th>\n",
              "      <th>Age</th>\n",
              "      <th>Concrete</th>\n",
              "    </tr>\n",
              "  </thead>\n",
              "  <tbody>\n",
              "    <tr>\n",
              "      <th>0</th>\n",
              "      <td>540.0</td>\n",
              "      <td>0.0</td>\n",
              "      <td>0.0</td>\n",
              "      <td>162.0</td>\n",
              "      <td>2.5</td>\n",
              "      <td>1040.0</td>\n",
              "      <td>676.0</td>\n",
              "      <td>28</td>\n",
              "      <td>79.986111</td>\n",
              "    </tr>\n",
              "    <tr>\n",
              "      <th>1</th>\n",
              "      <td>540.0</td>\n",
              "      <td>0.0</td>\n",
              "      <td>0.0</td>\n",
              "      <td>162.0</td>\n",
              "      <td>2.5</td>\n",
              "      <td>1055.0</td>\n",
              "      <td>676.0</td>\n",
              "      <td>28</td>\n",
              "      <td>61.887366</td>\n",
              "    </tr>\n",
              "    <tr>\n",
              "      <th>2</th>\n",
              "      <td>332.5</td>\n",
              "      <td>142.5</td>\n",
              "      <td>0.0</td>\n",
              "      <td>228.0</td>\n",
              "      <td>0.0</td>\n",
              "      <td>932.0</td>\n",
              "      <td>594.0</td>\n",
              "      <td>270</td>\n",
              "      <td>40.269535</td>\n",
              "    </tr>\n",
              "    <tr>\n",
              "      <th>3</th>\n",
              "      <td>332.5</td>\n",
              "      <td>142.5</td>\n",
              "      <td>0.0</td>\n",
              "      <td>228.0</td>\n",
              "      <td>0.0</td>\n",
              "      <td>932.0</td>\n",
              "      <td>594.0</td>\n",
              "      <td>365</td>\n",
              "      <td>41.052780</td>\n",
              "    </tr>\n",
              "    <tr>\n",
              "      <th>4</th>\n",
              "      <td>198.6</td>\n",
              "      <td>132.4</td>\n",
              "      <td>0.0</td>\n",
              "      <td>192.0</td>\n",
              "      <td>0.0</td>\n",
              "      <td>978.4</td>\n",
              "      <td>825.5</td>\n",
              "      <td>360</td>\n",
              "      <td>44.296075</td>\n",
              "    </tr>\n",
              "  </tbody>\n",
              "</table>\n",
              "</div>\n",
              "      <button class=\"colab-df-convert\" onclick=\"convertToInteractive('df-12262591-d5d9-4a9b-9ed0-a94e1e7faed9')\"\n",
              "              title=\"Convert this dataframe to an interactive table.\"\n",
              "              style=\"display:none;\">\n",
              "\n",
              "  <svg xmlns=\"http://www.w3.org/2000/svg\" height=\"24px\"viewBox=\"0 0 24 24\"\n",
              "       width=\"24px\">\n",
              "    <path d=\"M0 0h24v24H0V0z\" fill=\"none\"/>\n",
              "    <path d=\"M18.56 5.44l.94 2.06.94-2.06 2.06-.94-2.06-.94-.94-2.06-.94 2.06-2.06.94zm-11 1L8.5 8.5l.94-2.06 2.06-.94-2.06-.94L8.5 2.5l-.94 2.06-2.06.94zm10 10l.94 2.06.94-2.06 2.06-.94-2.06-.94-.94-2.06-.94 2.06-2.06.94z\"/><path d=\"M17.41 7.96l-1.37-1.37c-.4-.4-.92-.59-1.43-.59-.52 0-1.04.2-1.43.59L10.3 9.45l-7.72 7.72c-.78.78-.78 2.05 0 2.83L4 21.41c.39.39.9.59 1.41.59.51 0 1.02-.2 1.41-.59l7.78-7.78 2.81-2.81c.8-.78.8-2.07 0-2.86zM5.41 20L4 18.59l7.72-7.72 1.47 1.35L5.41 20z\"/>\n",
              "  </svg>\n",
              "      </button>\n",
              "\n",
              "\n",
              "\n",
              "    <div id=\"df-0ef39ba6-f00b-48ed-930a-069ed3d8af96\">\n",
              "      <button class=\"colab-df-quickchart\" onclick=\"quickchart('df-0ef39ba6-f00b-48ed-930a-069ed3d8af96')\"\n",
              "              title=\"Suggest charts.\"\n",
              "              style=\"display:none;\">\n",
              "\n",
              "<svg xmlns=\"http://www.w3.org/2000/svg\" height=\"24px\"viewBox=\"0 0 24 24\"\n",
              "     width=\"24px\">\n",
              "    <g>\n",
              "        <path d=\"M19 3H5c-1.1 0-2 .9-2 2v14c0 1.1.9 2 2 2h14c1.1 0 2-.9 2-2V5c0-1.1-.9-2-2-2zM9 17H7v-7h2v7zm4 0h-2V7h2v10zm4 0h-2v-4h2v4z\"/>\n",
              "    </g>\n",
              "</svg>\n",
              "      </button>\n",
              "    </div>\n",
              "\n",
              "<style>\n",
              "  .colab-df-quickchart {\n",
              "    background-color: #E8F0FE;\n",
              "    border: none;\n",
              "    border-radius: 50%;\n",
              "    cursor: pointer;\n",
              "    display: none;\n",
              "    fill: #1967D2;\n",
              "    height: 32px;\n",
              "    padding: 0 0 0 0;\n",
              "    width: 32px;\n",
              "  }\n",
              "\n",
              "  .colab-df-quickchart:hover {\n",
              "    background-color: #E2EBFA;\n",
              "    box-shadow: 0px 1px 2px rgba(60, 64, 67, 0.3), 0px 1px 3px 1px rgba(60, 64, 67, 0.15);\n",
              "    fill: #174EA6;\n",
              "  }\n",
              "\n",
              "  [theme=dark] .colab-df-quickchart {\n",
              "    background-color: #3B4455;\n",
              "    fill: #D2E3FC;\n",
              "  }\n",
              "\n",
              "  [theme=dark] .colab-df-quickchart:hover {\n",
              "    background-color: #434B5C;\n",
              "    box-shadow: 0px 1px 3px 1px rgba(0, 0, 0, 0.15);\n",
              "    filter: drop-shadow(0px 1px 2px rgba(0, 0, 0, 0.3));\n",
              "    fill: #FFFFFF;\n",
              "  }\n",
              "</style>\n",
              "\n",
              "    <script>\n",
              "      async function quickchart(key) {\n",
              "        const containerElement = document.querySelector('#' + key);\n",
              "        const charts = await google.colab.kernel.invokeFunction(\n",
              "            'suggestCharts', [key], {});\n",
              "      }\n",
              "    </script>\n",
              "\n",
              "      <script>\n",
              "\n",
              "function displayQuickchartButton(domScope) {\n",
              "  let quickchartButtonEl =\n",
              "    domScope.querySelector('#df-0ef39ba6-f00b-48ed-930a-069ed3d8af96 button.colab-df-quickchart');\n",
              "  quickchartButtonEl.style.display =\n",
              "    google.colab.kernel.accessAllowed ? 'block' : 'none';\n",
              "}\n",
              "\n",
              "        displayQuickchartButton(document);\n",
              "      </script>\n",
              "      <style>\n",
              "    .colab-df-container {\n",
              "      display:flex;\n",
              "      flex-wrap:wrap;\n",
              "      gap: 12px;\n",
              "    }\n",
              "\n",
              "    .colab-df-convert {\n",
              "      background-color: #E8F0FE;\n",
              "      border: none;\n",
              "      border-radius: 50%;\n",
              "      cursor: pointer;\n",
              "      display: none;\n",
              "      fill: #1967D2;\n",
              "      height: 32px;\n",
              "      padding: 0 0 0 0;\n",
              "      width: 32px;\n",
              "    }\n",
              "\n",
              "    .colab-df-convert:hover {\n",
              "      background-color: #E2EBFA;\n",
              "      box-shadow: 0px 1px 2px rgba(60, 64, 67, 0.3), 0px 1px 3px 1px rgba(60, 64, 67, 0.15);\n",
              "      fill: #174EA6;\n",
              "    }\n",
              "\n",
              "    [theme=dark] .colab-df-convert {\n",
              "      background-color: #3B4455;\n",
              "      fill: #D2E3FC;\n",
              "    }\n",
              "\n",
              "    [theme=dark] .colab-df-convert:hover {\n",
              "      background-color: #434B5C;\n",
              "      box-shadow: 0px 1px 3px 1px rgba(0, 0, 0, 0.15);\n",
              "      filter: drop-shadow(0px 1px 2px rgba(0, 0, 0, 0.3));\n",
              "      fill: #FFFFFF;\n",
              "    }\n",
              "  </style>\n",
              "\n",
              "      <script>\n",
              "        const buttonEl =\n",
              "          document.querySelector('#df-12262591-d5d9-4a9b-9ed0-a94e1e7faed9 button.colab-df-convert');\n",
              "        buttonEl.style.display =\n",
              "          google.colab.kernel.accessAllowed ? 'block' : 'none';\n",
              "\n",
              "        async function convertToInteractive(key) {\n",
              "          const element = document.querySelector('#df-12262591-d5d9-4a9b-9ed0-a94e1e7faed9');\n",
              "          const dataTable =\n",
              "            await google.colab.kernel.invokeFunction('convertToInteractive',\n",
              "                                                     [key], {});\n",
              "          if (!dataTable) return;\n",
              "\n",
              "          const docLinkHtml = 'Like what you see? Visit the ' +\n",
              "            '<a target=\"_blank\" href=https://colab.research.google.com/notebooks/data_table.ipynb>data table notebook</a>'\n",
              "            + ' to learn more about interactive tables.';\n",
              "          element.innerHTML = '';\n",
              "          dataTable['output_type'] = 'display_data';\n",
              "          await google.colab.output.renderOutput(dataTable, element);\n",
              "          const docLink = document.createElement('div');\n",
              "          docLink.innerHTML = docLinkHtml;\n",
              "          element.appendChild(docLink);\n",
              "        }\n",
              "      </script>\n",
              "    </div>\n",
              "  </div>\n"
            ]
          },
          "metadata": {},
          "execution_count": 22
        }
      ]
    },
    {
      "cell_type": "code",
      "source": [
        "dados.isnull().sum()/len(dados['Age'])*100"
      ],
      "metadata": {
        "colab": {
          "base_uri": "https://localhost:8080/"
        },
        "id": "M3PFdVgYV83I",
        "outputId": "c69b5d0c-247e-4348-bbc8-33d1ddcc276f"
      },
      "execution_count": 24,
      "outputs": [
        {
          "output_type": "execute_result",
          "data": {
            "text/plain": [
              "Coment              0.0\n",
              "Blast               0.0\n",
              "Fly                 0.0\n",
              "Water               0.0\n",
              "Superplasticizer    0.0\n",
              "Coarse              0.0\n",
              "Fine                0.0\n",
              "Age                 0.0\n",
              "Concrete            0.0\n",
              "dtype: float64"
            ]
          },
          "metadata": {},
          "execution_count": 24
        }
      ]
    },
    {
      "cell_type": "code",
      "source": [
        "dados.dtypes"
      ],
      "metadata": {
        "colab": {
          "base_uri": "https://localhost:8080/"
        },
        "id": "-AIi6tzCWEqN",
        "outputId": "ab262e9d-bbbc-4e88-e122-7196b4206037"
      },
      "execution_count": 6,
      "outputs": [
        {
          "output_type": "execute_result",
          "data": {
            "text/plain": [
              "Cement (component 1)(kg in a m^3 mixture)                float64\n",
              "Blast Furnace Slag (component 2)(kg in a m^3 mixture)    float64\n",
              "Fly Ash (component 3)(kg in a m^3 mixture)               float64\n",
              "Water  (component 4)(kg in a m^3 mixture)                float64\n",
              "Superplasticizer (component 5)(kg in a m^3 mixture)      float64\n",
              "Coarse Aggregate  (component 6)(kg in a m^3 mixture)     float64\n",
              "Fine Aggregate (component 7)(kg in a m^3 mixture)        float64\n",
              "Age (day)                                                  int64\n",
              "Concrete compressive strength(MPa, megapascals)          float64\n",
              "dtype: object"
            ]
          },
          "metadata": {},
          "execution_count": 6
        }
      ]
    },
    {
      "cell_type": "code",
      "source": [
        "plt.boxplot(dados)"
      ],
      "metadata": {
        "colab": {
          "base_uri": "https://localhost:8080/",
          "height": 1000
        },
        "id": "mXG53Xm7WHA7",
        "outputId": "1934a139-893d-4cde-9e5e-b84a7f750e76"
      },
      "execution_count": 9,
      "outputs": [
        {
          "output_type": "execute_result",
          "data": {
            "text/plain": [
              "{'whiskers': [<matplotlib.lines.Line2D at 0x7f8352702fe0>,\n",
              "  <matplotlib.lines.Line2D at 0x7f8352702230>,\n",
              "  <matplotlib.lines.Line2D at 0x7f8352700d90>,\n",
              "  <matplotlib.lines.Line2D at 0x7f8352703850>,\n",
              "  <matplotlib.lines.Line2D at 0x7f8352701180>,\n",
              "  <matplotlib.lines.Line2D at 0x7f83527020e0>,\n",
              "  <matplotlib.lines.Line2D at 0x7f83522b0580>,\n",
              "  <matplotlib.lines.Line2D at 0x7f83522b2fb0>,\n",
              "  <matplotlib.lines.Line2D at 0x7f83522b0790>,\n",
              "  <matplotlib.lines.Line2D at 0x7f83522b2b90>,\n",
              "  <matplotlib.lines.Line2D at 0x7f83522b1d50>,\n",
              "  <matplotlib.lines.Line2D at 0x7f83522b3a30>,\n",
              "  <matplotlib.lines.Line2D at 0x7f83522b03a0>,\n",
              "  <matplotlib.lines.Line2D at 0x7f83522b3e20>,\n",
              "  <matplotlib.lines.Line2D at 0x7f835244cac0>,\n",
              "  <matplotlib.lines.Line2D at 0x7f835244c880>,\n",
              "  <matplotlib.lines.Line2D at 0x7f835244c790>,\n",
              "  <matplotlib.lines.Line2D at 0x7f835244e410>],\n",
              " 'caps': [<matplotlib.lines.Line2D at 0x7f83527033a0>,\n",
              "  <matplotlib.lines.Line2D at 0x7f8352701e40>,\n",
              "  <matplotlib.lines.Line2D at 0x7f8352702080>,\n",
              "  <matplotlib.lines.Line2D at 0x7f83527004c0>,\n",
              "  <matplotlib.lines.Line2D at 0x7f83527006a0>,\n",
              "  <matplotlib.lines.Line2D at 0x7f83527012a0>,\n",
              "  <matplotlib.lines.Line2D at 0x7f83522b09d0>,\n",
              "  <matplotlib.lines.Line2D at 0x7f83522b3c70>,\n",
              "  <matplotlib.lines.Line2D at 0x7f83522b2ec0>,\n",
              "  <matplotlib.lines.Line2D at 0x7f83522b2200>,\n",
              "  <matplotlib.lines.Line2D at 0x7f83522b3a60>,\n",
              "  <matplotlib.lines.Line2D at 0x7f83522b25f0>,\n",
              "  <matplotlib.lines.Line2D at 0x7f835200c3a0>,\n",
              "  <matplotlib.lines.Line2D at 0x7f835200f580>,\n",
              "  <matplotlib.lines.Line2D at 0x7f835244c7c0>,\n",
              "  <matplotlib.lines.Line2D at 0x7f835244db40>,\n",
              "  <matplotlib.lines.Line2D at 0x7f835244e7d0>,\n",
              "  <matplotlib.lines.Line2D at 0x7f835244d2a0>],\n",
              " 'boxes': [<matplotlib.lines.Line2D at 0x7f8352701ff0>,\n",
              "  <matplotlib.lines.Line2D at 0x7f83527016f0>,\n",
              "  <matplotlib.lines.Line2D at 0x7f8352703460>,\n",
              "  <matplotlib.lines.Line2D at 0x7f83522b36a0>,\n",
              "  <matplotlib.lines.Line2D at 0x7f83522b0670>,\n",
              "  <matplotlib.lines.Line2D at 0x7f83522b08e0>,\n",
              "  <matplotlib.lines.Line2D at 0x7f83522b39d0>,\n",
              "  <matplotlib.lines.Line2D at 0x7f835244c640>,\n",
              "  <matplotlib.lines.Line2D at 0x7f835244dae0>],\n",
              " 'medians': [<matplotlib.lines.Line2D at 0x7f8352700790>,\n",
              "  <matplotlib.lines.Line2D at 0x7f8352702d10>,\n",
              "  <matplotlib.lines.Line2D at 0x7f83527002e0>,\n",
              "  <matplotlib.lines.Line2D at 0x7f83522b22c0>,\n",
              "  <matplotlib.lines.Line2D at 0x7f83522b0130>,\n",
              "  <matplotlib.lines.Line2D at 0x7f83522b1b70>,\n",
              "  <matplotlib.lines.Line2D at 0x7f835200ec20>,\n",
              "  <matplotlib.lines.Line2D at 0x7f835244f3a0>,\n",
              "  <matplotlib.lines.Line2D at 0x7f835244ee30>],\n",
              " 'fliers': [<matplotlib.lines.Line2D at 0x7f8352703e80>,\n",
              "  <matplotlib.lines.Line2D at 0x7f8352703be0>,\n",
              "  <matplotlib.lines.Line2D at 0x7f83527029b0>,\n",
              "  <matplotlib.lines.Line2D at 0x7f83522b2620>,\n",
              "  <matplotlib.lines.Line2D at 0x7f83522b1420>,\n",
              "  <matplotlib.lines.Line2D at 0x7f83522b0760>,\n",
              "  <matplotlib.lines.Line2D at 0x7f835200c850>,\n",
              "  <matplotlib.lines.Line2D at 0x7f835244ca00>,\n",
              "  <matplotlib.lines.Line2D at 0x7f835244dde0>],\n",
              " 'means': []}"
            ]
          },
          "metadata": {},
          "execution_count": 9
        },
        {
          "output_type": "display_data",
          "data": {
            "text/plain": [
              "<Figure size 640x480 with 1 Axes>"
            ],
            "image/png": "[encoded data removed]"
          },
          "metadata": {}
        }
      ]
    },
    {
      "cell_type": "code",
      "source": [
        "linear = LinearRegression()\n",
        "lasso = Lasso()\n",
        "ridge = Ridge()\n",
        "\n",
        "kn = KNeighborsRegressor()\n",
        "np.random.seed(2)"
      ],
      "metadata": {
        "id": "Nnio61i9WcL6"
      },
      "execution_count": 40,
      "outputs": []
    },
    {
      "cell_type": "code",
      "source": [
        "x = dados.drop('Concrete', axis =1)\n",
        "y = dados['Concrete']"
      ],
      "metadata": {
        "id": "MuFucAZtYgqU"
      },
      "execution_count": 25,
      "outputs": []
    },
    {
      "cell_type": "code",
      "source": [
        "from sklearn.utils import shuffle\n",
        "def melhorModelo(modelo,x,y):\n",
        "  Bg = BaggingRegressor(modelo,100)\n",
        "  return cross_val_score(Bg,x,y, cv = KFold(shuffle=True)).mean()\n",
        ""
      ],
      "metadata": {
        "id": "QhnSOld4X9hF"
      },
      "execution_count": 70,
      "outputs": []
    },
    {
      "cell_type": "code",
      "source": [
        "melhorModelo(linear,x,y)"
      ],
      "metadata": {
        "colab": {
          "base_uri": "https://localhost:8080/"
        },
        "id": "GMgfGGm6YgGq",
        "outputId": "a2b72eea-c318-43b7-f5e6-8fa0f6291bf8"
      },
      "execution_count": 71,
      "outputs": [
        {
          "output_type": "execute_result",
          "data": {
            "text/plain": [
              "0.6010862695565938"
            ]
          },
          "metadata": {},
          "execution_count": 71
        }
      ]
    },
    {
      "cell_type": "code",
      "source": [
        "melhorModelo(lasso,x,y)"
      ],
      "metadata": {
        "colab": {
          "base_uri": "https://localhost:8080/"
        },
        "id": "gNlMaRDkZtKj",
        "outputId": "ff1d6f9e-7f3f-4fd9-cb9b-06c2ae170829"
      },
      "execution_count": 72,
      "outputs": [
        {
          "output_type": "execute_result",
          "data": {
            "text/plain": [
              "0.6025645261976265"
            ]
          },
          "metadata": {},
          "execution_count": 72
        }
      ]
    },
    {
      "cell_type": "code",
      "source": [
        "melhorModelo(ridge,x,y)"
      ],
      "metadata": {
        "colab": {
          "base_uri": "https://localhost:8080/"
        },
        "id": "QeKeGCwgZwfm",
        "outputId": "1ac4c04e-c4b5-48c0-80fe-8d8e9c735512"
      },
      "execution_count": 73,
      "outputs": [
        {
          "output_type": "execute_result",
          "data": {
            "text/plain": [
              "0.5998040067461584"
            ]
          },
          "metadata": {},
          "execution_count": 73
        }
      ]
    },
    {
      "cell_type": "code",
      "source": [
        "norm = MinMaxScaler((0,1))\n",
        "x_norm = norm.fit_transform(x)\n",
        "melhorModelo(kn,x_norm,y)"
      ],
      "metadata": {
        "colab": {
          "base_uri": "https://localhost:8080/"
        },
        "id": "pk9c-xAvZ0cS",
        "outputId": "2009c7ec-f99b-4884-9e17-96f4c07bddf2"
      },
      "execution_count": 74,
      "outputs": [
        {
          "output_type": "execute_result",
          "data": {
            "text/plain": [
              "0.7044440133300599"
            ]
          },
          "metadata": {},
          "execution_count": 74
        }
      ]
    },
    {
      "cell_type": "code",
      "source": [
        "melhorModelo(None,x,y)"
      ],
      "metadata": {
        "colab": {
          "base_uri": "https://localhost:8080/"
        },
        "id": "IIeDvebDaJT7",
        "outputId": "9c6230c2-7733-4f06-9181-0cee1c385f47"
      },
      "execution_count": 75,
      "outputs": [
        {
          "output_type": "execute_result",
          "data": {
            "text/plain": [
              "0.9083850757964941"
            ]
          },
          "metadata": {},
          "execution_count": 75
        }
      ]
    },
    {
      "cell_type": "code",
      "source": [],
      "metadata": {
        "id": "xqZk2yLCafzH"
      },
      "execution_count": null,
      "outputs": []
    }
  ]
}